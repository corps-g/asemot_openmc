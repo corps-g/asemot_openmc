{
 "cells": [
  {
   "cell_type": "markdown",
   "metadata": {
    "slideshow": {
     "slide_type": "slide"
    }
   },
   "source": [
    "## OpenMC Mini Workshop at ASEMOT\n",
    "\n",
    "![OpenMC](img/openmc_logo.png)\n",
    "\n",
    "\n",
    "**Place**: IIT Bombay\n",
    "\n",
    "**Time**: Dec 15, 2018 from 1:30 to 3:30 pm\n",
    "\n",
    "**Facilitators**: Jeremy Roberts and Richard Reed\n"
   ]
  },
  {
   "cell_type": "markdown",
   "metadata": {
    "slideshow": {
     "slide_type": "subslide"
    }
   },
   "source": [
    "## Caveats and Acknowledgements\n",
    "\n",
    "I am *not* an OpenMC developer, nor am I an *expert* user!\n",
    "\n",
    "Much of the material included draws directly from a workshop provided by Paul Romano to the Canadian Nuclear Laboratories and the various examples provided by the OpenMC documentation."
   ]
  },
  {
   "cell_type": "markdown",
   "metadata": {
    "slideshow": {
     "slide_type": "subslide"
    }
   },
   "source": [
    "## The Plan\n",
    "\n",
    "| Topic               | Duration |\n",
    "|---------------------|----------|\n",
    "| Overview of OpenMC (key features) | 15 min   |\n",
    "| A basic pin cell (materials, geometries, settings, and statepoints)    | 30 min   |\n",
    "| A basic assembly (universes, lattices, and tallies)   | 45 min   |\n",
    "| Multigroup data  (cross-section generation and multigroup mode)   | 30 min   |\n",
    "| Spatial tallies and uncertainties   | As time allows |\n"
   ]
  },
  {
   "cell_type": "markdown",
   "metadata": {
    "slideshow": {
     "slide_type": "subslide"
    }
   },
   "source": [
    "## The Monte Carlo Method and the Life of a Neutron\n",
    "\n",
    "![Particle Life](img/particle_life.png)\n"
   ]
  },
  {
   "cell_type": "markdown",
   "metadata": {
    "slideshow": {
     "slide_type": "subslide"
    }
   },
   "source": [
    "### Tallying Along The Way\n",
    "\n",
    "Often, analysis requires some quantity $X = \\int d\\mathbf{r} \\int d\\mathbf{\\Omega} \\int dE \\;\n",
    "    f(\\mathbf{r},\\mathbf{\\Omega},E) \\psi (\\mathbf{r},\\mathbf{\\Omega},E)$.\n",
    "    \n",
    "During simulation, estimate $\\hat{X} = \\frac{1}{N} \\sum\\limits_{i \\in T} w_i \\ell_i f_i$\n",
    "\n",
    "With several histories and $\\hat{X}_1, \\hat{X}_2, \\ldots$, compute\n",
    "\n",
    "$$\n",
    " \\bar{X} = \\frac{1}{N} {\\sum\\limits_{i=1}^N \\hat{X}_i} \\qquad \\text{and} \\qquad\n",
    "    s^2_X = \\frac{1}{N-1} \\left ( \\frac{1}{N} {\\sum\\limits_{i=1}^N \\hat{X}_i^2} -\n",
    "    \\bar{X}^2 \\right )\n",
    "$$"
   ]
  },
  {
   "cell_type": "markdown",
   "metadata": {
    "slideshow": {
     "slide_type": "subslide"
    }
   },
   "source": [
    "## Monte Carlo and Criticality Calculations\n",
    "\n",
    "![Eigenvalue Algorithm](img/k_algorithm.png)"
   ]
  },
  {
   "cell_type": "markdown",
   "metadata": {
    "slideshow": {
     "slide_type": "slide"
    }
   },
   "source": [
    "## Quick Overview of OpenMC "
   ]
  },
  {
   "cell_type": "markdown",
   "metadata": {
    "slideshow": {
     "slide_type": "subslide"
    }
   },
   "source": [
    "### History and Status\n",
    "\n",
    "  - Development started in 2011 because \n",
    "     1. parallel scaling of existing codes was not great\n",
    "     2. export control made research continuity difficult\n",
    "  - DOE/NNSA approved open release in 2012\n",
    "  - Formally funded as of 2016\n",
    "  - 14+ active developers with contributions from at least 61 individuals\n",
    "  - Roughly 100k lines of C++, Fortran, and Python\n",
    "  - OpenMC is still considered to be in *beta*!!\n",
    "    "
   ]
  },
  {
   "cell_type": "markdown",
   "metadata": {
    "slideshow": {
     "slide_type": "subslide"
    }
   },
   "source": [
    "### Where Do I Get Help? \n",
    "\n",
    "User's Group: [openmc-users@googlegroups.com](openmc-users@googlegroups.com) \n",
    "\n",
    "Developer's Group: [openmc-dev@googlegroups.com](openmc-dev@googlegroups.com)\n",
    "\n",
    "Documentation: [http://openmc.readthedocs.org/en/latest/](http://openmc.readthedocs.org/en/latest/)"
   ]
  },
  {
   "cell_type": "markdown",
   "metadata": {
    "slideshow": {
     "slide_type": "subslide"
    }
   },
   "source": [
    "### OpenMC Inputs\n",
    "\n",
    "Execution of OpenMC requires three XML files:\n",
    "\n",
    "  - `settings.xml`  \n",
    "  - `materials.xml` \n",
    "  - `geometry.xml`\n",
    "  \n",
    "with optional features enabled by other files:\n",
    "\n",
    "  - `tallies.xml`\n",
    "  - `plots.xml`\n"
   ]
  },
  {
   "cell_type": "markdown",
   "metadata": {
    "slideshow": {
     "slide_type": "subslide"
    }
   },
   "source": [
    "### Python API\n",
    "\n",
    "XML is good, but scripted inputs are better:\n",
    "\n",
    "  - All XML files automatically generated via Python scripts\n",
    "  - Rich interface to output data (tallies, etc.)\n",
    "  - Developmental interface to C API for in-memory, coupled-physics calculations"
   ]
  },
  {
   "cell_type": "markdown",
   "metadata": {
    "slideshow": {
     "slide_type": "subslide"
    }
   },
   "source": [
    "### Scalable Parallelism\n",
    "\n",
    "![Parallel Performance](img/parallel_performance.png)\n",
    "\n",
    "(courtesy P. Romano)"
   ]
  },
  {
   "cell_type": "markdown",
   "metadata": {
    "slideshow": {
     "slide_type": "subslide"
    }
   },
   "source": [
    "### Handling Temperature Dependence\n",
    "\n",
    "Because $\\Sigma$ depends on $T$, and $T$ varies with $\\mathbf{r}$, need 100's of GB's of data using a *brute force* approach.  "
   ]
  },
  {
   "cell_type": "markdown",
   "metadata": {
    "slideshow": {
     "slide_type": "subslide"
    }
   },
   "source": [
    "**Alternatives**: polynomial fits (Yesilyurt and Martin), target motion sampling (Viitanen and Leppanen), and the **windowed-multipole** (WMP) approach (Hwang; revisited by Forget and Josey in OpenMC), based on the following:\n",
    "\n",
    "$$\n",
    "\\begin{align*}\n",
    "      \\sigma(u,0) &= \\frac{1}{u^2} \\sum\\limits_j \\Re \\left [ \\frac{r_j}{p_j - u}\n",
    "        \\right ] \\\\ \\sigma(u,T) &= \\frac{1}{2u^2\\sqrt{\\xi}} \\sum\\limits_j \\Re\n",
    "      \\left [ ir_j \\sqrt{\\pi} W(z_j^0) - \\frac{r_j}{\\pi} C\\left (\n",
    "        \\frac{p_j}{\\sqrt{\\xi}}, \\frac{u}{2\\sqrt{\\xi}} \\right ) \\right ]\n",
    "    \\end{align*}\n",
    "$$\n",
    "\n",
    "Now, (relatively) little data required, and the problem becomes FLOP dominated (good for large, parallel machines with little memory!  (See details in [Josey et al., J. Comp. Phys.  **307** (2016)](https://dspace.mit.edu/openaccess-disseminate/1721.1/114236))"
   ]
  },
  {
   "cell_type": "markdown",
   "metadata": {
    "slideshow": {
     "slide_type": "subslide"
    }
   },
   "source": [
    "**Example**: Use WMP data to show impact of Doppler broadening on the absorption cross section of U-238 at 6.67 eV."
   ]
  },
  {
   "cell_type": "markdown",
   "metadata": {
    "slideshow": {
     "slide_type": "notes"
    }
   },
   "source": [
    "Data paths should be set up on the remote server.  \n",
    "\n",
    "For folks with laptops, show the cross_sections.xml file and how to append WMP data.\n",
    "\n",
    "Note, WMP is not synced by default, nor does it handle thermal scattering.  Hence, stick with 294 K for the rest of the workshop."
   ]
  },
  {
   "cell_type": "code",
   "execution_count": null,
   "metadata": {
    "slideshow": {
     "slide_type": "fragment"
    }
   },
   "outputs": [],
   "source": [
    "import openmc\n",
    "import numpy as np\n",
    "import matplotlib.pyplot as plt\n",
    "path_u238_h5 = '/home/robertsj/Research/openmc/scripts/nndc_hdf5/U238.h5'\n",
    "path_u238_mp = '/home/robertsj/Research/openmc/scripts/nndc_hdf5/wmp/092238.h5'\n",
    "u238_h5 = openmc.data.IncidentNeutron.from_hdf5(path_u238_h5)\n",
    "u238_mp = openmc.data.WindowedMultipole.from_hdf5(path_u238_mp)"
   ]
  },
  {
   "cell_type": "code",
   "execution_count": null,
   "metadata": {
    "slideshow": {
     "slide_type": "subslide"
    }
   },
   "outputs": [],
   "source": [
    "E = np.linspace(5.5, 7.5, 1000)\n",
    "plt.semilogy(E, u238_mp(E, 0)[1], 'k') # the \"1\" indexes sigma_a\n",
    "plt.semilogy(E, u238_h5[102].xs['294K'](E), 'r') # mt=102 is the ENDF mt for sigma_a\n",
    "plt.semilogy(E, u238_mp(E, 294)[1], 'g--')\n",
    "plt.semilogy(E, u238_mp(E, 900)[1], 'b-.')\n",
    "plt.legend(['0 K', '294 K (from ACE)', '294 K (from WMP)', '900 K'])\n",
    "plt.xlabel('E (eV)')\n",
    "plt.ylabel('$\\sigma_a(E)$')\n",
    "plt.show()"
   ]
  },
  {
   "cell_type": "markdown",
   "metadata": {
    "slideshow": {
     "slide_type": "slide"
    }
   },
   "source": [
    "## Diving In: A Single Pin Cell\n",
    "\n",
    "**Example**: compute $k_{\\infty}$ for this fuel pin:\n",
    "\n",
    "![Fuel Pin](img/fuel_pin.png)\n",
    "\n",
    "where the densities for fuel, cladding, and water are 10 g/cm$^3$, 6.6 g/cm$^3$, and 1 g/cm$^3$, respectively. "
   ]
  },
  {
   "cell_type": "markdown",
   "metadata": {
    "slideshow": {
     "slide_type": "subslide"
    }
   },
   "source": [
    "### Defining `materials.xml`"
   ]
  },
  {
   "cell_type": "markdown",
   "metadata": {
    "slideshow": {
     "slide_type": "subslide"
    }
   },
   "source": [
    "First, import `openmc`:"
   ]
  },
  {
   "cell_type": "code",
   "execution_count": null,
   "metadata": {
    "slideshow": {
     "slide_type": "fragment"
    }
   },
   "outputs": [],
   "source": [
    "import openmc"
   ]
  },
  {
   "cell_type": "markdown",
   "metadata": {
    "slideshow": {
     "slide_type": "fragment"
    }
   },
   "source": [
    "Then, define a variable to represent the fuel material:"
   ]
  },
  {
   "cell_type": "code",
   "execution_count": null,
   "metadata": {
    "slideshow": {
     "slide_type": "fragment"
    }
   },
   "outputs": [],
   "source": [
    "uo2 = openmc.Material(1, \"uo2\")\n",
    "uo2.add_nuclide('U235', 0.04)\n",
    "uo2.add_nuclide('U238', 0.96)\n",
    "uo2.add_nuclide('O16', 2.0)\n",
    "uo2.set_density('g/cm3', 10.0)"
   ]
  },
  {
   "cell_type": "code",
   "execution_count": null,
   "metadata": {
    "slideshow": {
     "slide_type": "subslide"
    }
   },
   "outputs": [],
   "source": [
    "uo2"
   ]
  },
  {
   "cell_type": "markdown",
   "metadata": {
    "slideshow": {
     "slide_type": "subslide"
    }
   },
   "source": [
    "Now, do the same for Zr and water:"
   ]
  },
  {
   "cell_type": "code",
   "execution_count": null,
   "metadata": {
    "slideshow": {
     "slide_type": "fragment"
    }
   },
   "outputs": [],
   "source": [
    "zirconium = openmc.Material(2, \"zirconium\")\n",
    "zirconium.add_element('Zr', 1.0)\n",
    "zirconium.set_density('g/cm3', 6.6)\n",
    "zirconium # note automated elemental composition"
   ]
  },
  {
   "cell_type": "code",
   "execution_count": null,
   "metadata": {
    "slideshow": {
     "slide_type": "subslide"
    }
   },
   "outputs": [],
   "source": [
    "h2o = openmc.Material(3, \"h2o\")\n",
    "h2o.add_nuclide('H1', 2.0)\n",
    "h2o.add_nuclide('O16', 1.0)\n",
    "h2o.set_density('g/cm3', 1.0)\n",
    "h2o.add_s_alpha_beta('c_H_in_H2O')  "
   ]
  },
  {
   "cell_type": "markdown",
   "metadata": {
    "slideshow": {
     "slide_type": "subslide"
    }
   },
   "source": [
    "Now, add these materials to a material library and export the required XML file:"
   ]
  },
  {
   "cell_type": "code",
   "execution_count": null,
   "metadata": {
    "slideshow": {
     "slide_type": "fragment"
    }
   },
   "outputs": [],
   "source": [
    "materials = openmc.Materials()\n",
    "materials += [uo2, zirconium, h2o]\n",
    "materials.export_to_xml()"
   ]
  },
  {
   "cell_type": "code",
   "execution_count": null,
   "metadata": {
    "slideshow": {
     "slide_type": "subslide"
    }
   },
   "outputs": [],
   "source": [
    "!cat materials.xml # this calls \"cat materials.xml\" in bash"
   ]
  },
  {
   "cell_type": "markdown",
   "metadata": {
    "slideshow": {
     "slide_type": "subslide"
    }
   },
   "source": [
    "### Defining `geometry.xml`"
   ]
  },
  {
   "cell_type": "markdown",
   "metadata": {
    "slideshow": {
     "slide_type": "subslide"
    }
   },
   "source": [
    "OpenMC uses a combinatorial geometry similar to MCNP and Serpent.  \n",
    "\n",
    "Start by defining the surfaces needed to represent the fuel pin.  First, the four sides of the box:"
   ]
  },
  {
   "cell_type": "code",
   "execution_count": null,
   "metadata": {
    "slideshow": {
     "slide_type": "fragment"
    }
   },
   "outputs": [],
   "source": [
    "pitch = 1.26 # all dimensions in cm\n",
    "left = openmc.XPlane(x0=-pitch/2, boundary_type='reflective')\n",
    "right = openmc.XPlane(x0=pitch/2, boundary_type='reflective')\n",
    "bottom = openmc.YPlane(y0=-pitch/2, boundary_type='reflective')\n",
    "top = openmc.YPlane(y0=pitch/2, boundary_type='reflective')"
   ]
  },
  {
   "cell_type": "markdown",
   "metadata": {
    "slideshow": {
     "slide_type": "subslide"
    }
   },
   "source": [
    "Now, define the two cylinders:"
   ]
  },
  {
   "cell_type": "code",
   "execution_count": null,
   "metadata": {
    "slideshow": {
     "slide_type": "fragment"
    }
   },
   "outputs": [],
   "source": [
    "fuel_outer = openmc.ZCylinder(R=0.41)\n",
    "clad_outer = openmc.ZCylinder(R=0.48)"
   ]
  },
  {
   "cell_type": "markdown",
   "metadata": {
    "slideshow": {
     "slide_type": "subslide"
    }
   },
   "source": [
    "Now, define *cells* comprised of a region enclosed by surfaces and materials. For example, the fuel region is defined by everything \"inside of\" the `fuel_outer` surface and is filled with `uo2`:"
   ]
  },
  {
   "cell_type": "code",
   "execution_count": null,
   "metadata": {
    "slideshow": {
     "slide_type": "fragment"
    }
   },
   "outputs": [],
   "source": [
    "fuel = openmc.Cell(1, 'fuel')\n",
    "fuel.region = -fuel_outer # the \"-\" indicates \"inside of\"\n",
    "fuel.fill = uo2"
   ]
  },
  {
   "cell_type": "markdown",
   "metadata": {
    "slideshow": {
     "slide_type": "subslide"
    }
   },
   "source": [
    "Similarly, cells for the cladding and coolant can be defined as follows:"
   ]
  },
  {
   "cell_type": "code",
   "execution_count": null,
   "metadata": {
    "slideshow": {
     "slide_type": "fragment"
    }
   },
   "outputs": [],
   "source": [
    "cladding = openmc.Cell(2, 'cladding')\n",
    "cladding.region = +fuel_outer & -clad_outer # + means \"outside of\" and \"&\" represents intersection\n",
    "cladding.fill = zirconium \n",
    "    \n",
    "coolant = openmc.Cell(3, 'coolant')\n",
    "coolant.region = +left & -right & +bottom & -top & +clad_outer\n",
    "coolant.fill = h2o"
   ]
  },
  {
   "cell_type": "markdown",
   "metadata": {
    "slideshow": {
     "slide_type": "subslide"
    }
   },
   "source": [
    "Finally, define a root *universe* comprised of our cells, define a geometry with that root universe, and export to XML via:"
   ]
  },
  {
   "cell_type": "code",
   "execution_count": null,
   "metadata": {
    "slideshow": {
     "slide_type": "fragment"
    }
   },
   "outputs": [],
   "source": [
    "root = openmc.Universe(cells=(fuel, cladding, coolant))\n",
    "geom = openmc.Geometry(root)\n",
    "geom.export_to_xml()"
   ]
  },
  {
   "cell_type": "code",
   "execution_count": null,
   "metadata": {
    "slideshow": {
     "slide_type": "subslide"
    }
   },
   "outputs": [],
   "source": [
    "!cat geometry.xml"
   ]
  },
  {
   "cell_type": "markdown",
   "metadata": {
    "slideshow": {
     "slide_type": "subslide"
    }
   },
   "source": [
    "### Defining `settings.xml`"
   ]
  },
  {
   "cell_type": "markdown",
   "metadata": {
    "slideshow": {
     "slide_type": "subslide"
    }
   },
   "source": [
    "At a minimum, one must specific the number of (active) batches and particle histories per batch, but other settings include an initial source of neutrons, number of computational threads, etc."
   ]
  },
  {
   "cell_type": "code",
   "execution_count": null,
   "metadata": {
    "slideshow": {
     "slide_type": "fragment"
    }
   },
   "outputs": [],
   "source": [
    "settings = openmc.Settings()\n",
    "settings.batches = 100\n",
    "settings.particles = 1000\n",
    "settings.export_to_xml()"
   ]
  },
  {
   "cell_type": "code",
   "execution_count": null,
   "metadata": {
    "slideshow": {
     "slide_type": "subslide"
    }
   },
   "outputs": [],
   "source": [
    "!cat settings.xml"
   ]
  },
  {
   "cell_type": "markdown",
   "metadata": {
    "slideshow": {
     "slide_type": "subslide"
    }
   },
   "source": [
    "Now, we can execute OpenMC.  In the terminal, run, e.g.,\n",
    "\n",
    "```bash\n",
    "robertsj@sampo ~/path/to/xmlfiles/ $ openmc\n",
    "```\n",
    "\n",
    "Or, we can run it right in Python:"
   ]
  },
  {
   "cell_type": "code",
   "execution_count": null,
   "metadata": {
    "slideshow": {
     "slide_type": "fragment"
    }
   },
   "outputs": [],
   "source": [
    "!rm tallies.xml\n",
    "!rm *h5  \n",
    "openmc.run()"
   ]
  },
  {
   "cell_type": "markdown",
   "metadata": {
    "slideshow": {
     "slide_type": "subslide"
    }
   },
   "source": [
    "###  Looking at the Output\n",
    "\n",
    "So, what is produced?"
   ]
  },
  {
   "cell_type": "code",
   "execution_count": null,
   "metadata": {
    "slideshow": {
     "slide_type": "fragment"
    }
   },
   "outputs": [],
   "source": [
    "ls -al"
   ]
  },
  {
   "cell_type": "markdown",
   "metadata": {
    "slideshow": {
     "slide_type": "subslide"
    }
   },
   "source": [
    "The file `statepoint.100.h5` is an HDF5 file containing data associated with the first 100 batches.  One can use `h5dump` to see more of it (the output is long).  Rather, some useful information includes the following (shown by example):"
   ]
  },
  {
   "cell_type": "code",
   "execution_count": null,
   "metadata": {
    "scrolled": true,
    "slideshow": {
     "slide_type": "fragment"
    }
   },
   "outputs": [],
   "source": [
    "import h5py\n",
    "f = h5py.File('statepoint.100.h5', 'r') # open the file in read mode\n",
    "print(list(f['/k_combined']))\n",
    "f.close()"
   ]
  },
  {
   "cell_type": "markdown",
   "metadata": {
    "slideshow": {
     "slide_type": "fragment"
    }
   },
   "source": [
    "We can do the same thing with the Python API directly:"
   ]
  },
  {
   "cell_type": "code",
   "execution_count": null,
   "metadata": {
    "slideshow": {
     "slide_type": "fragment"
    }
   },
   "outputs": [],
   "source": [
    "sp = openmc.StatePoint('statepoint.100.h5')\n",
    "sp.k_combined.nominal_value, sp.k_combined.std_dev"
   ]
  },
  {
   "cell_type": "markdown",
   "metadata": {
    "slideshow": {
     "slide_type": "subslide"
    }
   },
   "source": [
    "### Visualizing the Geometry\n",
    "\n",
    "We can define one additional XML file that OpenMC can use to generate a bitmap image of the geometry:"
   ]
  },
  {
   "cell_type": "code",
   "execution_count": null,
   "metadata": {},
   "outputs": [],
   "source": [
    "p = openmc.Plot()\n",
    "p.filename = 'pin_cell'\n",
    "p.width = (1.26, 1.26)\n",
    "p.pixels = (100, 100)\n",
    "p.color_by = 'material' # or 'cell'\n",
    "plots = openmc.Plots([p])\n",
    "plots.export_to_xml()\n",
    "openmc.plot_geometry()\n",
    "openmc.plot_inline(p)  "
   ]
  },
  {
   "cell_type": "markdown",
   "metadata": {
    "slideshow": {
     "slide_type": "subslide"
    }
   },
   "source": [
    "### Additional Exercises\n",
    "\n",
    "  1. Write a Python script that uses the pin-cell model just created to produce a plot of $k_{\\infty}$ as a function of the pitch-to-diameter ratio.  For simplicity, keep the fuel and cladding radii constant while adjusting the pin pitch.\n",
    "  \n",
    "  2. Plot `k_generations` from `statepoint.100.h5` as a function of generation.  Also plot the running average value of `k_generations` as a function of generation.  Does the final value match `k_combined`?"
   ]
  },
  {
   "cell_type": "markdown",
   "metadata": {
    "slideshow": {
     "slide_type": "slide"
    }
   },
   "source": [
    "## Moving On: An Assembly of Fuel Pins\n",
    "\n",
    "Let us produce a $4 \\times 4$ assembly that uses the same basic fuel pin and looks like the following:\n",
    "\n",
    "\n",
    "![Fuel Assembly](img/fuel_assembly.png)\n",
    "\n",
    "Then, we'll attempt two things: \n",
    "  1. Compute the pin power distribution\n",
    "  2. Compute two-group cross sections for this assembly"
   ]
  },
  {
   "cell_type": "markdown",
   "metadata": {
    "slideshow": {
     "slide_type": "subslide"
    }
   },
   "source": [
    "The materials are the *same* as for the pin cell, so the same `materials.xml` can be used.\n",
    "\n",
    "Some of the geometry *does* change.  In summary, these are needed:\n",
    "  - surfaces and cell to contain the entire $4 \\times 4$ lattice\n",
    "  - surfaces, cells, and universes to define each unique lattice element (i.e., fuel pin or empty coolant channel)\n",
    "  - a $4\\times 4$ lattice filled with these two universes"
   ]
  },
  {
   "cell_type": "markdown",
   "metadata": {
    "slideshow": {
     "slide_type": "subslide"
    }
   },
   "source": [
    "First, define the surfaces.  Note that the `left`, `right`, `bottom`, and `top` surfaces will enclose the $4 \\times 4$ lattice (centered at $(x, y) = (0, 0)$) with *reflective* conditions."
   ]
  },
  {
   "cell_type": "code",
   "execution_count": null,
   "metadata": {
    "slideshow": {
     "slide_type": "fragment"
    }
   },
   "outputs": [],
   "source": [
    "pitch = 1.26\n",
    "left   = openmc.XPlane(x0=-pitch*2, boundary_type='reflective')\n",
    "right  = openmc.XPlane(x0=pitch*2, boundary_type='reflective')\n",
    "bottom = openmc.YPlane(y0=-pitch*2, boundary_type='reflective')\n",
    "top    = openmc.YPlane(y0=pitch*2, boundary_type='reflective')\n",
    "fuel_outer = openmc.ZCylinder(R=0.41)\n",
    "clad_outer = openmc.ZCylinder(R=0.48)"
   ]
  },
  {
   "cell_type": "markdown",
   "metadata": {
    "slideshow": {
     "slide_type": "subslide"
    }
   },
   "source": [
    "Now, define those cells needed for the fuel pin.  Note, the `coolant` cell is *infinite* in extent, but that's okay: the lattice will impose boundaries!"
   ]
  },
  {
   "cell_type": "code",
   "execution_count": null,
   "metadata": {
    "slideshow": {
     "slide_type": "fragment"
    }
   },
   "outputs": [],
   "source": [
    "fuel = openmc.Cell(1, 'fuel')\n",
    "fuel.fill = uo2\n",
    "fuel.region = -fuel_outer\n",
    "    \n",
    "cladding = openmc.Cell(2, 'cladding')\n",
    "cladding.fill = zirconium #\n",
    "cladding.region = +fuel_outer & -clad_outer\n",
    "    \n",
    "coolant = openmc.Cell(3, 'coolant')\n",
    "coolant.fill = h2o\n",
    "coolant.region = +clad_outer"
   ]
  },
  {
   "cell_type": "markdown",
   "metadata": {
    "slideshow": {
     "slide_type": "subslide"
    }
   },
   "source": [
    "Next, define the single cell needed for the empty coolant channel.  Note, this one is *finite*, but its bounds are outside the area defined by one lattice element, so it's okay: the lattice will define the correct boundaries."
   ]
  },
  {
   "cell_type": "code",
   "execution_count": null,
   "metadata": {
    "slideshow": {
     "slide_type": "fragment"
    }
   },
   "outputs": [],
   "source": [
    "coolant_channel = openmc.Cell(4, 'coolant_channel')\n",
    "coolant_channel.fill = h2o\n",
    "coolant_channel.region = +left & -right & +bottom & -top # *first* use of these surfaces"
   ]
  },
  {
   "cell_type": "markdown",
   "metadata": {
    "slideshow": {
     "slide_type": "subslide"
    }
   },
   "source": [
    "Define the fuel and coolant universes:"
   ]
  },
  {
   "cell_type": "code",
   "execution_count": null,
   "metadata": {
    "slideshow": {
     "slide_type": "fragment"
    }
   },
   "outputs": [],
   "source": [
    "univ_f = openmc.Universe(cells=[fuel, cladding, coolant], universe_id=1)  \n",
    "univ_c = openmc.Universe(cells=[coolant_channel], universe_id=2)    "
   ]
  },
  {
   "cell_type": "markdown",
   "metadata": {
    "slideshow": {
     "slide_type": "subslide"
    }
   },
   "source": [
    "### Defining Lattices of Repeated Units\n",
    "\n",
    "Next, define the $4\\times 4$ lattice:"
   ]
  },
  {
   "cell_type": "code",
   "execution_count": null,
   "metadata": {
    "slideshow": {
     "slide_type": "fragment"
    }
   },
   "outputs": [],
   "source": [
    "lattice2d = openmc.RectLattice(lattice_id=5)\n",
    "lattice2d.lower_left = [-2*pitch, -2*pitch]\n",
    "lattice2d.pitch = [pitch, pitch]\n",
    "lattice2d.universes = [[univ_f, univ_f, univ_f, univ_f],\n",
    "                       [univ_f, univ_c, univ_f, univ_f],\n",
    "                       [univ_f, univ_f, univ_f, univ_f],\n",
    "                       [univ_f, univ_f, univ_f, univ_f]]"
   ]
  },
  {
   "cell_type": "markdown",
   "metadata": {
    "slideshow": {
     "slide_type": "subslide"
    }
   },
   "source": [
    "Finally, create one cell to hold the lattice, set that as the cell for the root universe, and export the resulting geometry to XML:"
   ]
  },
  {
   "cell_type": "code",
   "execution_count": null,
   "metadata": {
    "slideshow": {
     "slide_type": "fragment"
    }
   },
   "outputs": [],
   "source": [
    "lattice_cell = openmc.Cell(cell_id=999)\n",
    "lattice_cell.region = +left & -right & +bottom & -top # second use of these surfaces\n",
    "lattice_cell.fill = lattice2d\n",
    "root = openmc.Universe(universe_id=0, name='root universe')\n",
    "root.add_cells([lattice_cell])\n",
    "geom = openmc.Geometry(root)\n",
    "geom.export_to_xml()"
   ]
  },
  {
   "cell_type": "markdown",
   "metadata": {
    "slideshow": {
     "slide_type": "subslide"
    }
   },
   "source": [
    "It's always wise to check the geometry by visual inspection:"
   ]
  },
  {
   "cell_type": "code",
   "execution_count": null,
   "metadata": {
    "slideshow": {
     "slide_type": "fragment"
    }
   },
   "outputs": [],
   "source": [
    "p = openmc.Plot()\n",
    "p.filename = 'lattice_plot'\n",
    "p.width = (4*pitch, 4*pitch)\n",
    "p.pixels = (300, 300)\n",
    "p.color_by = 'material'\n",
    "plots = openmc.Plots([p])\n",
    "plots.export_to_xml()\n",
    "openmc.plot_geometry()\n",
    "openmc.plot_inline(p)"
   ]
  },
  {
   "cell_type": "markdown",
   "metadata": {
    "slideshow": {
     "slide_type": "subslide"
    }
   },
   "source": [
    "### Defining `tallies.xml`\n",
    "\n",
    "Although $k_{\\text{eff}}$ is often important, most analysis requires determination of a quantity $X$ that can be represented as\n",
    "\n",
    "$$\n",
    " X = \\underbrace{\\int d\\mathbf{r} \\int d\\mathbf{\\Omega} \\int dE}_{\\text{filters}}\n",
    "   \\underbrace{f(\\mathbf{r}, \\mathbf{\\Omega} E)}_{\\text{scores}} \\psi(\\mathbf{r}, \\mathbf{\\Omega}, E)\\, .\n",
    "$$\n",
    "\n",
    "Possible **filters** include, among others, the selective integration over particular geometry cells and energy bins.  \n",
    "\n",
    "Possible **scores** (i.e., weighting functions) include the unit weight (for computing integral fluxes), various cross sections, and neutron/energy production from fission."
   ]
  },
  {
   "cell_type": "markdown",
   "metadata": {
    "slideshow": {
     "slide_type": "subslide"
    }
   },
   "source": [
    "Now, define a tally for the two-group flux (boundary at 0.625 eV) integrated averaged over the entire lattice volume.  First, an energy filter is needed:"
   ]
  },
  {
   "cell_type": "code",
   "execution_count": null,
   "metadata": {
    "slideshow": {
     "slide_type": "fragment"
    }
   },
   "outputs": [],
   "source": [
    "energy_filter = openmc.EnergyFilter([0.0, 0.625, 2.0e7])"
   ]
  },
  {
   "cell_type": "markdown",
   "metadata": {
    "slideshow": {
     "slide_type": "fragment"
    }
   },
   "source": [
    "Now, create a new tally, add the filter, and define what to score:"
   ]
  },
  {
   "cell_type": "code",
   "execution_count": null,
   "metadata": {
    "slideshow": {
     "slide_type": "fragment"
    }
   },
   "outputs": [],
   "source": [
    "flux_tally = openmc.Tally(tally_id=1)\n",
    "flux_tally.filters = [energy_filter]\n",
    "flux_tally.scores = ['flux']"
   ]
  },
  {
   "cell_type": "markdown",
   "metadata": {
    "slideshow": {
     "slide_type": "subslide"
    }
   },
   "source": [
    "Next, define a tally to compute the pin powers (as approximated by the fission density).  This is most easily accomplished using a *mesh tally*, which is a tally whose spatial integration is defined by an arbitrary Cartesian mesh."
   ]
  },
  {
   "cell_type": "markdown",
   "metadata": {
    "slideshow": {
     "slide_type": "fragment"
    }
   },
   "source": [
    "First, define the mesh. Each mesh element aligns exactly with a lattice element:"
   ]
  },
  {
   "cell_type": "code",
   "execution_count": null,
   "metadata": {
    "slideshow": {
     "slide_type": "fragment"
    }
   },
   "outputs": [],
   "source": [
    "mesh = openmc.Mesh(mesh_id=1)\n",
    "mesh.type = 'regular'\n",
    "mesh.dimension = [4, 4, 1]\n",
    "mesh.lower_left = [-2*pitch, -2*pitch, -1e7]\n",
    "mesh.width = [pitch, pitch, 2e7]"
   ]
  },
  {
   "cell_type": "markdown",
   "metadata": {
    "slideshow": {
     "slide_type": "fragment"
    }
   },
   "source": [
    "Now, create the mesh filter and the mesh tally:"
   ]
  },
  {
   "cell_type": "code",
   "execution_count": null,
   "metadata": {
    "slideshow": {
     "slide_type": "fragment"
    }
   },
   "outputs": [],
   "source": [
    "mesh_filter = openmc.MeshFilter(mesh)\n",
    "mesh_tally = openmc.Tally(tally_id=2)\n",
    "mesh_tally.filters = [mesh_filter]\n",
    "mesh_tally.scores = ['fission']"
   ]
  },
  {
   "cell_type": "markdown",
   "metadata": {
    "slideshow": {
     "slide_type": "subslide"
    }
   },
   "source": [
    "With the tallies defined, export to `tallies.xml`:"
   ]
  },
  {
   "cell_type": "code",
   "execution_count": null,
   "metadata": {
    "slideshow": {
     "slide_type": "fragment"
    }
   },
   "outputs": [],
   "source": [
    "tallies_file = openmc.Tallies([flux_tally, mesh_tally])\n",
    "tallies_file.export_to_xml()"
   ]
  },
  {
   "cell_type": "markdown",
   "metadata": {
    "slideshow": {
     "slide_type": "subslide"
    }
   },
   "source": [
    "Update `settings.xml` to include *inactive* generations:"
   ]
  },
  {
   "cell_type": "code",
   "execution_count": null,
   "metadata": {
    "slideshow": {
     "slide_type": "fragment"
    }
   },
   "outputs": [],
   "source": [
    "settings = openmc.Settings()\n",
    "settings.batches = 100\n",
    "settings.inactive = 10\n",
    "settings.particles = 1000\n",
    "settings.export_to_xml()"
   ]
  },
  {
   "cell_type": "markdown",
   "metadata": {
    "slideshow": {
     "slide_type": "fragment"
    }
   },
   "source": [
    "Run the simulation:"
   ]
  },
  {
   "cell_type": "code",
   "execution_count": null,
   "metadata": {
    "slideshow": {
     "slide_type": "fragment"
    }
   },
   "outputs": [],
   "source": [
    "!rm *.h5 # clean up any existing output\n",
    "openmc.run(threads=4)"
   ]
  },
  {
   "cell_type": "markdown",
   "metadata": {
    "slideshow": {
     "slide_type": "subslide"
    }
   },
   "source": [
    "Now, view `tallies.out`:"
   ]
  },
  {
   "cell_type": "code",
   "execution_count": null,
   "metadata": {},
   "outputs": [],
   "source": [
    "!cat tallies.out"
   ]
  },
  {
   "cell_type": "markdown",
   "metadata": {
    "slideshow": {
     "slide_type": "subslide"
    }
   },
   "source": [
    "### Defining multigroup cross sections\n",
    "\n",
    "With appropriate tallies, any multi-group cross section can be defined.  OpenMC has a built-in cross-section API to expedite defining these tallies.  To provide just a flavor, define the lattice-averaged values for $\\Sigma_t$, $\\Sigma_s$, $\\nu\\Sigma_f$, and $\\chi$ in the two-group format just used."
   ]
  },
  {
   "cell_type": "markdown",
   "metadata": {
    "slideshow": {
     "slide_type": "subslide"
    }
   },
   "source": [
    "First, define the group structure and the cross-section objects:"
   ]
  },
  {
   "cell_type": "code",
   "execution_count": null,
   "metadata": {
    "slideshow": {
     "slide_type": "fragment"
    }
   },
   "outputs": [],
   "source": [
    "from openmc import mgxs\n",
    "groups = mgxs.EnergyGroups()\n",
    "groups.group_edges = np.array([0., 0.625, 2e7])\n",
    "total = mgxs.TotalXS(domain=root, groups=groups)\n",
    "absorption = mgxs.AbsorptionXS(domain=root, groups=groups)\n",
    "scattering = mgxs.ScatterMatrixXS(domain=root, groups=groups)\n",
    "scattering.correction = None # no transport correction\n",
    "scattering.formulation = 'consistent' # conserve reaction rates\n",
    "fission = mgxs.FissionXS(domain=root, groups=groups, nu=True)\n",
    "chi = mgxs.Chi(domain=root, groups=groups)"
   ]
  },
  {
   "cell_type": "markdown",
   "metadata": {
    "slideshow": {
     "slide_type": "subslide"
    }
   },
   "source": [
    "Now, append the existing `tallies_file` with the tallies automatically produced by each cross-section object:"
   ]
  },
  {
   "cell_type": "code",
   "execution_count": null,
   "metadata": {
    "slideshow": {
     "slide_type": "subslide"
    }
   },
   "outputs": [],
   "source": [
    "tallies_file += total.tallies.values()\n",
    "tallies_file += absorption.tallies.values()\n",
    "tallies_file += scattering.tallies.values()\n",
    "tallies_file += fission.tallies.values()\n",
    "tallies_file += chi.tallies.values()\n",
    "tallies_file.export_to_xml()"
   ]
  },
  {
   "cell_type": "markdown",
   "metadata": {
    "slideshow": {
     "slide_type": "subslide"
    }
   },
   "source": [
    "Re-run the simulation:"
   ]
  },
  {
   "cell_type": "code",
   "execution_count": null,
   "metadata": {
    "slideshow": {
     "slide_type": "fragment"
    }
   },
   "outputs": [],
   "source": [
    "!rm *.h5\n",
    "openmc.run(threads=4)"
   ]
  },
  {
   "cell_type": "code",
   "execution_count": null,
   "metadata": {
    "slideshow": {
     "slide_type": "subslide"
    }
   },
   "outputs": [],
   "source": [
    "!cat tallies.out"
   ]
  },
  {
   "cell_type": "markdown",
   "metadata": {
    "slideshow": {
     "slide_type": "subslide"
    }
   },
   "source": [
    "Load the cross-section values from the state-point information:"
   ]
  },
  {
   "cell_type": "code",
   "execution_count": null,
   "metadata": {
    "slideshow": {
     "slide_type": "fragment"
    }
   },
   "outputs": [],
   "source": [
    "sp = openmc.StatePoint('statepoint.100.h5')\n",
    "total.load_from_statepoint(sp)\n",
    "absorption.load_from_statepoint(sp)\n",
    "scattering.load_from_statepoint(sp)\n",
    "fission.load_from_statepoint(sp)\n",
    "chi.load_from_statepoint(sp)"
   ]
  },
  {
   "cell_type": "markdown",
   "metadata": {
    "slideshow": {
     "slide_type": "subslide"
    }
   },
   "source": [
    "Each can be viewed directly, e.g.,"
   ]
  },
  {
   "cell_type": "code",
   "execution_count": null,
   "metadata": {
    "slideshow": {
     "slide_type": "fragment"
    }
   },
   "outputs": [],
   "source": [
    "total.print_xs()"
   ]
  },
  {
   "cell_type": "markdown",
   "metadata": {
    "slideshow": {
     "slide_type": "subslide"
    }
   },
   "source": [
    "More flexibility comes with use of Pandas data frames (a bit out of scope, but super useful to see in action):"
   ]
  },
  {
   "cell_type": "code",
   "execution_count": null,
   "metadata": {
    "slideshow": {
     "slide_type": "fragment"
    }
   },
   "outputs": [],
   "source": [
    "df = total.get_pandas_dataframe()\n",
    "df"
   ]
  },
  {
   "cell_type": "markdown",
   "metadata": {
    "slideshow": {
     "slide_type": "subslide"
    }
   },
   "source": [
    "Use data frames to extract and produce the two-group, homogeneous, infinite medium eigenproblem:"
   ]
  },
  {
   "cell_type": "code",
   "execution_count": null,
   "metadata": {
    "slideshow": {
     "slide_type": "fragment"
    }
   },
   "outputs": [],
   "source": [
    "T = np.array(total.get_pandas_dataframe()['mean'])\n",
    "A = np.array(absorption.get_pandas_dataframe()['mean'])\n",
    "F = np.array(fission.get_pandas_dataframe()['mean'])\n",
    "X = np.array(chi.get_pandas_dataframe()['mean'])\n",
    "df = scattering.get_pandas_dataframe()\n",
    "S = np.zeros((2, 2))\n",
    "S[:, 0] = df[df['group in']==1]['mean']\n",
    "S[:, 1] = df[df['group in']==2]['mean']\n",
    "LHS, RHS = np.diag(T)-S, np.outer(X, F)\n",
    "e, v = np.linalg.eig(np.linalg.inv(LHS)@RHS)\n",
    "max(e) # is this keff?\n",
    "max(e), sp.k_combined"
   ]
  },
  {
   "cell_type": "markdown",
   "metadata": {
    "slideshow": {
     "slide_type": "slide"
    }
   },
   "source": [
    "## The End\n",
    "\n",
    "\n",
    "Next steps: visit the OpenMC documentation, join the user group, and do the examples!  "
   ]
  }
 ],
 "metadata": {
  "celltoolbar": "Slideshow",
  "kernelspec": {
   "display_name": "Python 3",
   "language": "python",
   "name": "python3"
  },
  "language_info": {
   "codemirror_mode": {
    "name": "ipython",
    "version": 3
   },
   "file_extension": ".py",
   "mimetype": "text/x-python",
   "name": "python",
   "nbconvert_exporter": "python",
   "pygments_lexer": "ipython3",
   "version": "3.6.5"
  },
  "livereveal": {
   "scroll": true
  }
 },
 "nbformat": 4,
 "nbformat_minor": 2
}
