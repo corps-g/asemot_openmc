{
 "cells": [
  {
   "cell_type": "markdown",
   "metadata": {
    "slideshow": {
     "slide_type": "slide"
    }
   },
   "source": [
    "## OpenMC Mini Workshop at ASEMOT\n",
    "\n",
    "![OpenMC](img/openmc_logo.png)\n",
    "\n",
    "\n",
    "**Place**: IIT Bombay\n",
    "\n",
    "**Time**: Dec 15, 2018 from 1:30 to 3:30 pm\n",
    "\n",
    "**Facilitators**: Jeremy Roberts and Richard Reed\n"
   ]
  },
  {
   "cell_type": "markdown",
   "metadata": {
    "slideshow": {
     "slide_type": "subslide"
    }
   },
   "source": [
    "## The Plan\n",
    "\n",
    "| Topic               | Duration |\n",
    "|---------------------|----------|\n",
    "| Ensure/Debug Remote Access       | 15 min   |\n",
    "| Overview of OpenMC (key features) | 15 min   |\n",
    "| A basic pin cell (materials, geometries, settings, and statepoints)    | 30 min   |\n",
    "| A basic assembly (universes, lattices, and tallies)   | 45 min   |\n"
   ]
  },
  {
   "cell_type": "markdown",
   "metadata": {
    "slideshow": {
     "slide_type": "subslide"
    }
   },
   "source": [
    "## Remote Access\n",
    "\n",
    "Download `asemot.pem` from `https://github.com/corps-g/asemot_openmc`.\n",
    "\n",
    "In `bash`, navigate to where you downloaded `asemot.pem` and enter\n",
    "\n",
    "```\n",
    "ssh -i \"asemot.pem\" ubuntu@ec2-54-197-16-236.compute-1.amazonaws.com\n",
    "```\n",
    "\n",
    "Everyone has the same username `ubuntu` but each registrant has a folder named based on email address.  If your email is\n",
    "\n",
    "```\n",
    "jeremy@host.com\n",
    "```\n",
    "\n",
    "then your folder name is `jeremy`.  Type `ls` to see all folders.  Use `cd` to enter yours, which contains the two Python files we'll use as examples.\n",
    "\n"
   ]
  },
  {
   "cell_type": "markdown",
   "metadata": {
    "slideshow": {
     "slide_type": "subslide"
    }
   },
   "source": [
    "## Caveats and Acknowledgements\n",
    "\n",
    "I am *not* an OpenMC developer, nor am I an *expert* user!\n",
    "\n",
    "Much of the material included draws directly from a workshop provided by Paul Romano to the Canadian Nuclear Laboratories and the various examples provided by the OpenMC documentation."
   ]
  },
  {
   "cell_type": "markdown",
   "metadata": {
    "slideshow": {
     "slide_type": "subslide"
    }
   },
   "source": [
    "## The Monte Carlo Method and the Life of a Neutron\n",
    "\n",
    "![Particle Life](img/particle_life.png)\n"
   ]
  },
  {
   "cell_type": "markdown",
   "metadata": {
    "slideshow": {
     "slide_type": "subslide"
    }
   },
   "source": [
    "### Tallying Along The Way\n",
    "\n",
    "Often, analysis requires some quantity $X = \\int d\\mathbf{r} \\int d\\mathbf{\\Omega} \\int dE \\;\n",
    "    f(\\mathbf{r},\\mathbf{\\Omega},E) \\psi (\\mathbf{r},\\mathbf{\\Omega},E)$.\n",
    "    \n",
    "During simulation, estimate $\\hat{X} = \\frac{1}{N} \\sum\\limits_{i \\in T} w_i \\ell_i f_i$\n",
    "\n",
    "With several histories and $\\hat{X}_1, \\hat{X}_2, \\ldots$, compute\n",
    "\n",
    "$$\n",
    " \\bar{X} = \\frac{1}{N} {\\sum\\limits_{i=1}^N \\hat{X}_i} \\qquad \\text{and} \\qquad\n",
    "    s^2_X = \\frac{1}{N-1} \\left ( \\frac{1}{N} {\\sum\\limits_{i=1}^N \\hat{X}_i^2} -\n",
    "    \\bar{X}^2 \\right )\n",
    "$$"
   ]
  },
  {
   "cell_type": "markdown",
   "metadata": {
    "slideshow": {
     "slide_type": "subslide"
    }
   },
   "source": [
    "## Monte Carlo and Criticality Calculations\n",
    "\n",
    "![Eigenvalue Algorithm](img/k_algorithm.png)"
   ]
  },
  {
   "cell_type": "markdown",
   "metadata": {
    "slideshow": {
     "slide_type": "slide"
    }
   },
   "source": [
    "## Quick Overview of OpenMC "
   ]
  },
  {
   "cell_type": "markdown",
   "metadata": {
    "slideshow": {
     "slide_type": "subslide"
    }
   },
   "source": [
    "### History and Status\n",
    "\n",
    "  - Development started in 2011 because \n",
    "     1. parallel scaling of existing codes was not great\n",
    "     2. export control made research continuity difficult\n",
    "  - DOE/NNSA approved open release in 2012\n",
    "  - Formally funded as of 2016\n",
    "  - 14+ active developers with contributions from at least 61 individuals\n",
    "  - Roughly 100k lines of C++, Fortran, and Python\n",
    "  - OpenMC is still considered to be in *beta*!!\n",
    "    "
   ]
  },
  {
   "cell_type": "markdown",
   "metadata": {
    "slideshow": {
     "slide_type": "subslide"
    }
   },
   "source": [
    "### Where Do I Get Help? \n",
    "\n",
    "User's Group: [openmc-users@googlegroups.com](openmc-users@googlegroups.com) \n",
    "\n",
    "Developer's Group: [openmc-dev@googlegroups.com](openmc-dev@googlegroups.com)\n",
    "\n",
    "Documentation: [http://openmc.readthedocs.org/en/latest/](http://openmc.readthedocs.org/en/latest/)"
   ]
  },
  {
   "cell_type": "markdown",
   "metadata": {
    "slideshow": {
     "slide_type": "subslide"
    }
   },
   "source": [
    "### OpenMC Inputs\n",
    "\n",
    "Execution of OpenMC requires three XML files:\n",
    "\n",
    "  - `settings.xml`  \n",
    "  - `materials.xml` \n",
    "  - `geometry.xml`\n",
    "  \n",
    "with optional features enabled by other files:\n",
    "\n",
    "  - `tallies.xml`\n",
    "  - `plots.xml`\n"
   ]
  },
  {
   "cell_type": "markdown",
   "metadata": {
    "slideshow": {
     "slide_type": "subslide"
    }
   },
   "source": [
    "### Python API\n",
    "\n",
    "XML is good, but scripted inputs are better:\n",
    "\n",
    "  - All XML files automatically generated via Python scripts\n",
    "  - Rich interface to output data (tallies, etc.)\n",
    "  - Developmental interface to C API for in-memory, coupled-physics calculations"
   ]
  },
  {
   "cell_type": "markdown",
   "metadata": {
    "slideshow": {
     "slide_type": "subslide"
    }
   },
   "source": [
    "### Scalable Parallelism\n",
    "\n",
    "![Parallel Performance](img/parallel_performance.png)\n",
    "\n",
    "(courtesy P. Romano)"
   ]
  },
  {
   "cell_type": "markdown",
   "metadata": {
    "slideshow": {
     "slide_type": "subslide"
    }
   },
   "source": [
    "### Handling Temperature Dependence\n",
    "\n",
    "Because $\\Sigma$ depends on $T$, and $T$ varies with $\\mathbf{r}$, need 100's of GB's of data using a *brute force* approach.  "
   ]
  },
  {
   "cell_type": "markdown",
   "metadata": {
    "slideshow": {
     "slide_type": "subslide"
    }
   },
   "source": [
    "**Alternatives**: polynomial fits (Yesilyurt and Martin), target motion sampling (Viitanen and Leppanen), and the **windowed-multipole** (WMP) approach (Hwang; revisited by Forget and Josey in OpenMC), based on the following:\n",
    "\n",
    "$$\n",
    "\\begin{align*}\n",
    "      \\sigma(u,0) &= \\frac{1}{u^2} \\sum\\limits_j \\Re \\left [ \\frac{r_j}{p_j - u}\n",
    "        \\right ] \\\\ \\sigma(u,T) &= \\frac{1}{2u^2\\sqrt{\\xi}} \\sum\\limits_j \\Re\n",
    "      \\left [ ir_j \\sqrt{\\pi} W(z_j^0) - \\frac{r_j}{\\pi} C\\left (\n",
    "        \\frac{p_j}{\\sqrt{\\xi}}, \\frac{u}{2\\sqrt{\\xi}} \\right ) \\right ]\n",
    "    \\end{align*}\n",
    "$$\n",
    "\n",
    "Now, (relatively) little data required, and the problem becomes FLOP dominated (good for large, parallel machines with little memory!  (See details in [Josey et al., J. Comp. Phys.  **307** (2016)](https://dspace.mit.edu/openaccess-disseminate/1721.1/114236))"
   ]
  },
  {
   "cell_type": "markdown",
   "metadata": {
    "slideshow": {
     "slide_type": "subslide"
    }
   },
   "source": [
    "**Example**: Use WMP data to show impact of Doppler broadening on the absorption cross section of U-238 at 6.67 eV."
   ]
  },
  {
   "cell_type": "markdown",
   "metadata": {
    "slideshow": {
     "slide_type": "notes"
    }
   },
   "source": [
    "Data paths should be set up on the remote server.  \n",
    "\n",
    "For folks with laptops, show the cross_sections.xml file and how to append WMP data.\n",
    "\n",
    "Note, WMP is not synced by default, nor does it handle thermal scattering.  Hence, stick with 294 K for the rest of the workshop."
   ]
  },
  {
   "cell_type": "code",
   "execution_count": 1,
   "metadata": {
    "slideshow": {
     "slide_type": "fragment"
    }
   },
   "outputs": [
    {
     "name": "stderr",
     "output_type": "stream",
     "text": [
      "/home/robertsj/opt/anaconda3/lib/python3.6/site-packages/h5py/__init__.py:36: FutureWarning: Conversion of the second argument of issubdtype from `float` to `np.floating` is deprecated. In future, it will be treated as `np.float64 == np.dtype(float).type`.\n",
      "  from ._conv import register_converters as _register_converters\n"
     ]
    }
   ],
   "source": [
    "import openmc\n",
    "import numpy as np\n",
    "import matplotlib.pyplot as plt\n",
    "path_u238_h5 = '/home/robertsj/Research/openmc/scripts/nndc_hdf5/U238.h5'\n",
    "path_u238_mp = '/home/robertsj/Research/openmc/scripts/nndc_hdf5/wmp/092238.h5'\n",
    "u238_h5 = openmc.data.IncidentNeutron.from_hdf5(path_u238_h5)\n",
    "u238_mp = openmc.data.WindowedMultipole.from_hdf5(path_u238_mp)"
   ]
  },
  {
   "cell_type": "code",
   "execution_count": 2,
   "metadata": {
    "slideshow": {
     "slide_type": "subslide"
    }
   },
   "outputs": [
    {
     "data": {
      "image/png": "[encoded data removed]",
      "text/plain": [
       "<Figure size 432x288 with 1 Axes>"
      ]
     },
     "metadata": {},
     "output_type": "display_data"
    }
   ],
   "source": [
    "E = np.linspace(5.5, 7.5, 1000)\n",
    "plt.semilogy(E, u238_mp(E, 0)[1], 'k') # the \"1\" indexes sigma_a\n",
    "plt.semilogy(E, u238_h5[102].xs['294K'](E), 'r') # mt=102 is the ENDF mt for sigma_a\n",
    "plt.semilogy(E, u238_mp(E, 294)[1], 'g--')\n",
    "plt.semilogy(E, u238_mp(E, 900)[1], 'b-.')\n",
    "plt.legend(['0 K', '294 K (from ACE)', '294 K (from WMP)', '900 K'])\n",
    "plt.xlabel('E (eV)')\n",
    "plt.ylabel('$\\sigma_a(E)$')\n",
    "plt.show()"
   ]
  },
  {
   "cell_type": "markdown",
   "metadata": {
    "slideshow": {
     "slide_type": "slide"
    }
   },
   "source": [
    "## Diving In: A Single Pin Cell\n",
    "\n",
    "**Example**: compute $k_{\\infty}$ for this fuel pin:\n",
    "\n",
    "![Fuel Pin](img/fuel_pin.png)\n",
    "\n",
    "where the densities for fuel, cladding, and water are 10 g/cm$^3$, 6.6 g/cm$^3$, and 1 g/cm$^3$, respectively. "
   ]
  },
  {
   "cell_type": "markdown",
   "metadata": {
    "slideshow": {
     "slide_type": "subslide"
    }
   },
   "source": [
    "### Defining `materials.xml`"
   ]
  },
  {
   "cell_type": "markdown",
   "metadata": {
    "slideshow": {
     "slide_type": "subslide"
    }
   },
   "source": [
    "First, import `openmc`:"
   ]
  },
  {
   "cell_type": "code",
   "execution_count": 3,
   "metadata": {
    "slideshow": {
     "slide_type": "fragment"
    }
   },
   "outputs": [],
   "source": [
    "import openmc"
   ]
  },
  {
   "cell_type": "markdown",
   "metadata": {
    "slideshow": {
     "slide_type": "fragment"
    }
   },
   "source": [
    "Then, define a variable to represent the fuel material:"
   ]
  },
  {
   "cell_type": "code",
   "execution_count": 6,
   "metadata": {
    "slideshow": {
     "slide_type": "fragment"
    }
   },
   "outputs": [
    {
     "name": "stderr",
     "output_type": "stream",
     "text": [
      "/home/robertsj/opt/anaconda3/lib/python3.6/site-packages/openmc-0.10.0-py3.6-linux-x86_64.egg/openmc/mixin.py:71: IDWarning: Another Material instance already exists with id=1.\n",
      "  warn(msg, IDWarning)\n"
     ]
    },
    {
     "data": {
      "text/plain": [
       "Material\n",
       "\tID             =\t1\n",
       "\tName           =\tuo2\n",
       "\tTemperature    =\tNone\n",
       "\tDensity        =\t10.0 [g/cm3]\n",
       "\tS(a,b) Tables  \n",
       "\tNuclides       \n",
       "\tU235           =\t0.04         [ao]\n",
       "\tU238           =\t0.96         [ao]\n",
       "\tO16            =\t2.0          [ao]"
      ]
     },
     "execution_count": 6,
     "metadata": {},
     "output_type": "execute_result"
    }
   ],
   "source": [
    "uo2 = openmc.Material(1, \"uo2\")\n",
    "uo2.add_nuclide('U235', 0.04)\n",
    "uo2.add_nuclide('U238', 0.96)\n",
    "uo2.add_nuclide('O16', 2.0)\n",
    "uo2.set_density('g/cm3', 10.0)\n",
    "uo2"
   ]
  },
  {
   "cell_type": "code",
   "execution_count": 7,
   "metadata": {
    "slideshow": {
     "slide_type": "subslide"
    }
   },
   "outputs": [
    {
     "data": {
      "text/plain": [
       "Material\n",
       "\tID             =\t1\n",
       "\tName           =\tuo2\n",
       "\tTemperature    =\tNone\n",
       "\tDensity        =\t10.0 [g/cm3]\n",
       "\tS(a,b) Tables  \n",
       "\tNuclides       \n",
       "\tU235           =\t0.04         [ao]\n",
       "\tU238           =\t0.96         [ao]\n",
       "\tO16            =\t2.0          [ao]"
      ]
     },
     "execution_count": 7,
     "metadata": {},
     "output_type": "execute_result"
    }
   ],
   "source": [
    "uo2 "
   ]
  },
  {
   "cell_type": "markdown",
   "metadata": {
    "slideshow": {
     "slide_type": "subslide"
    }
   },
   "source": [
    "Now, do the same for Zr and water:"
   ]
  },
  {
   "cell_type": "code",
   "execution_count": 8,
   "metadata": {
    "slideshow": {
     "slide_type": "fragment"
    }
   },
   "outputs": [
    {
     "data": {
      "text/plain": [
       "Material\n",
       "\tID             =\t2\n",
       "\tName           =\tzirconium\n",
       "\tTemperature    =\tNone\n",
       "\tDensity        =\t6.6 [g/cm3]\n",
       "\tS(a,b) Tables  \n",
       "\tNuclides       \n",
       "\tZr90           =\t0.5145       [ao]\n",
       "\tZr91           =\t0.1122       [ao]\n",
       "\tZr92           =\t0.1715       [ao]\n",
       "\tZr94           =\t0.1738       [ao]\n",
       "\tZr96           =\t0.028        [ao]"
      ]
     },
     "execution_count": 8,
     "metadata": {},
     "output_type": "execute_result"
    }
   ],
   "source": [
    "zirconium = openmc.Material(2, \"zirconium\")\n",
    "zirconium.add_element('Zr', 1.0)\n",
    "zirconium.set_density('g/cm3', 6.6)\n",
    "zirconium # note automated elemental composition"
   ]
  },
  {
   "cell_type": "code",
   "execution_count": 9,
   "metadata": {
    "slideshow": {
     "slide_type": "subslide"
    }
   },
   "outputs": [],
   "source": [
    "h2o = openmc.Material(3, \"h2o\")\n",
    "h2o.add_nuclide('H1', 2.0)\n",
    "h2o.add_nuclide('O16', 1.0)\n",
    "h2o.set_density('g/cm3', 1.0)\n",
    "h2o.add_s_alpha_beta('c_H_in_H2O')  "
   ]
  },
  {
   "cell_type": "markdown",
   "metadata": {
    "slideshow": {
     "slide_type": "subslide"
    }
   },
   "source": [
    "Now, add these materials to a material library and export the required XML file:"
   ]
  },
  {
   "cell_type": "code",
   "execution_count": 10,
   "metadata": {
    "slideshow": {
     "slide_type": "fragment"
    }
   },
   "outputs": [],
   "source": [
    "materials = openmc.Materials()\n",
    "materials += [uo2, zirconium, h2o]\n",
    "materials.export_to_xml()"
   ]
  },
  {
   "cell_type": "code",
   "execution_count": 11,
   "metadata": {
    "slideshow": {
     "slide_type": "subslide"
    }
   },
   "outputs": [
    {
     "name": "stdout",
     "output_type": "stream",
     "text": [
      "<?xml version='1.0' encoding='utf-8'?>\r\n",
      "<materials>\r\n",
      "  <material depletable=\"true\" id=\"1\" name=\"uo2\">\r\n",
      "    <density units=\"g/cm3\" value=\"10.0\" />\r\n",
      "    <nuclide ao=\"0.04\" name=\"U235\" />\r\n",
      "    <nuclide ao=\"0.96\" name=\"U238\" />\r\n",
      "    <nuclide ao=\"2.0\" name=\"O16\" />\r\n",
      "  </material>\r\n",
      "  <material id=\"2\" name=\"zirconium\">\r\n",
      "    <density units=\"g/cm3\" value=\"6.6\" />\r\n",
      "    <nuclide ao=\"0.5145\" name=\"Zr90\" />\r\n",
      "    <nuclide ao=\"0.1122\" name=\"Zr91\" />\r\n",
      "    <nuclide ao=\"0.1715\" name=\"Zr92\" />\r\n",
      "    <nuclide ao=\"0.1738\" name=\"Zr94\" />\r\n",
      "    <nuclide ao=\"0.028\" name=\"Zr96\" />\r\n",
      "  </material>\r\n",
      "  <material id=\"3\" name=\"h2o\">\r\n",
      "    <density units=\"g/cm3\" value=\"1.0\" />\r\n",
      "    <nuclide ao=\"2.0\" name=\"H1\" />\r\n",
      "    <nuclide ao=\"1.0\" name=\"O16\" />\r\n",
      "    <sab name=\"c_H_in_H2O\" />\r\n",
      "  </material>\r\n",
      "</materials>\r\n"
     ]
    }
   ],
   "source": [
    "!cat materials.xml # this calls \"cat materials.xml\" in bash"
   ]
  },
  {
   "cell_type": "markdown",
   "metadata": {
    "slideshow": {
     "slide_type": "subslide"
    }
   },
   "source": [
    "### Defining `geometry.xml`"
   ]
  },
  {
   "cell_type": "markdown",
   "metadata": {
    "slideshow": {
     "slide_type": "subslide"
    }
   },
   "source": [
    "OpenMC uses a combinatorial geometry similar to MCNP and Serpent.  \n",
    "\n",
    "Start by defining the surfaces needed to represent the fuel pin.  First, the four sides of the box:"
   ]
  },
  {
   "cell_type": "code",
   "execution_count": 13,
   "metadata": {
    "slideshow": {
     "slide_type": "fragment"
    }
   },
   "outputs": [],
   "source": [
    "pitch = 1.26 # all dimensions in cm\n",
    "left = openmc.XPlane(x0=-pitch/2, boundary_type='reflective')\n",
    "right = openmc.XPlane(x0=pitch/2, boundary_type='reflective')\n",
    "bottom = openmc.YPlane(y0=-pitch/2, boundary_type='reflective')\n",
    "top = openmc.YPlane(y0=pitch/2, boundary_type='reflective')"
   ]
  },
  {
   "cell_type": "markdown",
   "metadata": {
    "slideshow": {
     "slide_type": "subslide"
    }
   },
   "source": [
    "Now, define the two cylinders:"
   ]
  },
  {
   "cell_type": "code",
   "execution_count": 14,
   "metadata": {
    "slideshow": {
     "slide_type": "fragment"
    }
   },
   "outputs": [],
   "source": [
    "fuel_outer = openmc.ZCylinder(R=0.41)\n",
    "clad_outer = openmc.ZCylinder(R=0.48)"
   ]
  },
  {
   "cell_type": "markdown",
   "metadata": {
    "slideshow": {
     "slide_type": "subslide"
    }
   },
   "source": [
    "Now, define *cells* comprised of a region enclosed by surfaces and materials. For example, the fuel region is defined by everything \"inside of\" the `fuel_outer` surface and is filled with `uo2`:"
   ]
  },
  {
   "cell_type": "code",
   "execution_count": 15,
   "metadata": {
    "slideshow": {
     "slide_type": "fragment"
    }
   },
   "outputs": [
    {
     "name": "stderr",
     "output_type": "stream",
     "text": [
      "/home/robertsj/opt/anaconda3/lib/python3.6/site-packages/openmc-0.10.0-py3.6-linux-x86_64.egg/openmc/mixin.py:71: IDWarning: Another Cell instance already exists with id=1.\n",
      "  warn(msg, IDWarning)\n"
     ]
    }
   ],
   "source": [
    "fuel = openmc.Cell(1, 'fuel')\n",
    "fuel.region = -fuel_outer # the \"-\" indicates \"inside of\"\n",
    "fuel.fill = uo2"
   ]
  },
  {
   "cell_type": "markdown",
   "metadata": {
    "slideshow": {
     "slide_type": "subslide"
    }
   },
   "source": [
    "Similarly, cells for the cladding and coolant can be defined as follows:"
   ]
  },
  {
   "cell_type": "code",
   "execution_count": 16,
   "metadata": {
    "slideshow": {
     "slide_type": "fragment"
    }
   },
   "outputs": [],
   "source": [
    "cladding = openmc.Cell(2, 'cladding')\n",
    "cladding.region = +fuel_outer & -clad_outer # + means \"outside of\" and \"&\" represents intersection\n",
    "cladding.fill = zirconium \n",
    "    \n",
    "coolant = openmc.Cell(3, 'coolant')\n",
    "coolant.region = +left & -right & +bottom & -top & +clad_outer\n",
    "coolant.fill = h2o"
   ]
  },
  {
   "cell_type": "markdown",
   "metadata": {
    "slideshow": {
     "slide_type": "subslide"
    }
   },
   "source": [
    "Finally, define a root *universe* comprised of our cells, define a geometry with that root universe, and export to XML via:"
   ]
  },
  {
   "cell_type": "code",
   "execution_count": 17,
   "metadata": {
    "slideshow": {
     "slide_type": "fragment"
    }
   },
   "outputs": [],
   "source": [
    "root = openmc.Universe(cells=(fuel, cladding, coolant))\n",
    "geom = openmc.Geometry(root)\n",
    "geom.export_to_xml()"
   ]
  },
  {
   "cell_type": "code",
   "execution_count": 18,
   "metadata": {
    "slideshow": {
     "slide_type": "subslide"
    }
   },
   "outputs": [
    {
     "name": "stdout",
     "output_type": "stream",
     "text": [
      "<?xml version='1.0' encoding='utf-8'?>\r\n",
      "<geometry>\r\n",
      "  <cell id=\"1\" material=\"1\" name=\"fuel\" region=\"-5\" universe=\"1\" />\r\n",
      "  <cell id=\"2\" material=\"2\" name=\"cladding\" region=\"5 -6\" universe=\"1\" />\r\n",
      "  <cell id=\"3\" material=\"3\" name=\"coolant\" region=\"1 -2 3 -4 6\" universe=\"1\" />\r\n",
      "  <surface boundary=\"reflective\" coeffs=\"-0.63\" id=\"1\" type=\"x-plane\" />\r\n",
      "  <surface boundary=\"reflective\" coeffs=\"0.63\" id=\"2\" type=\"x-plane\" />\r\n",
      "  <surface boundary=\"reflective\" coeffs=\"-0.63\" id=\"3\" type=\"y-plane\" />\r\n",
      "  <surface boundary=\"reflective\" coeffs=\"0.63\" id=\"4\" type=\"y-plane\" />\r\n",
      "  <surface coeffs=\"0.0 0.0 0.41\" id=\"5\" type=\"z-cylinder\" />\r\n",
      "  <surface coeffs=\"0.0 0.0 0.48\" id=\"6\" type=\"z-cylinder\" />\r\n",
      "</geometry>\r\n"
     ]
    }
   ],
   "source": [
    "!cat geometry.xml"
   ]
  },
  {
   "cell_type": "markdown",
   "metadata": {
    "slideshow": {
     "slide_type": "subslide"
    }
   },
   "source": [
    "### Defining `settings.xml`"
   ]
  },
  {
   "cell_type": "markdown",
   "metadata": {
    "slideshow": {
     "slide_type": "subslide"
    }
   },
   "source": [
    "At a minimum, one must specific the number of (active) batches and particle histories per batch, but other settings include an initial source of neutrons, number of computational threads, etc."
   ]
  },
  {
   "cell_type": "code",
   "execution_count": 22,
   "metadata": {
    "slideshow": {
     "slide_type": "fragment"
    }
   },
   "outputs": [],
   "source": [
    "settings = openmc.Settings()\n",
    "settings.batches = 100\n",
    "settings.inactive = 10\n",
    "settings.particles = 1000\n",
    "settings.export_to_xml()"
   ]
  },
  {
   "cell_type": "code",
   "execution_count": 24,
   "metadata": {
    "slideshow": {
     "slide_type": "subslide"
    }
   },
   "outputs": [
    {
     "name": "stdout",
     "output_type": "stream",
     "text": [
      "<?xml version='1.0' encoding='utf-8'?>\r\n",
      "<settings>\r\n",
      "  <run_mode>eigenvalue</run_mode>\r\n",
      "  <particles>1000</particles>\r\n",
      "  <batches>100</batches>\r\n",
      "  <inactive>10</inactive>\r\n",
      "</settings>\r\n"
     ]
    }
   ],
   "source": [
    "!cat settings.xml"
   ]
  },
  {
   "cell_type": "markdown",
   "metadata": {
    "slideshow": {
     "slide_type": "subslide"
    }
   },
   "source": [
    "Now, we can execute OpenMC.  In the terminal, run, e.g.,\n",
    "\n",
    "```bash\n",
    "robertsj@sampo ~/path/to/xmlfiles/ $ openmc\n",
    "```\n",
    "\n",
    "Or, we can run it right in Python:"
   ]
  },
  {
   "cell_type": "code",
   "execution_count": 21,
   "metadata": {
    "slideshow": {
     "slide_type": "fragment"
    }
   },
   "outputs": [
    {
     "name": "stdout",
     "output_type": "stream",
     "text": [
      "rm: cannot remove 'tallies.xml': No such file or directory\n",
      "\n",
      "                               %%%%%%%%%%%%%%%\n",
      "                          %%%%%%%%%%%%%%%%%%%%%%%%\n",
      "                       %%%%%%%%%%%%%%%%%%%%%%%%%%%%%%\n",
      "                     %%%%%%%%%%%%%%%%%%%%%%%%%%%%%%%%%%\n",
      "                   %%%%%%%%%%%%%%%%%%%%%%%%%%%%%%%%%%%%%%\n",
      "                  %%%%%%%%%%%%%%%%%%%%%%%%%%%%%%%%%%%%%%%%\n",
      "                                   %%%%%%%%%%%%%%%%%%%%%%%%\n",
      "                                    %%%%%%%%%%%%%%%%%%%%%%%%\n",
      "                ###############      %%%%%%%%%%%%%%%%%%%%%%%%\n",
      "               ##################     %%%%%%%%%%%%%%%%%%%%%%%\n",
      "               ###################     %%%%%%%%%%%%%%%%%%%%%%%\n",
      "               ####################     %%%%%%%%%%%%%%%%%%%%%%\n",
      "               #####################     %%%%%%%%%%%%%%%%%%%%%\n",
      "               ######################     %%%%%%%%%%%%%%%%%%%%\n",
      "               #######################     %%%%%%%%%%%%%%%%%%\n",
      "                #######################     %%%%%%%%%%%%%%%%%\n",
      "                ######################     %%%%%%%%%%%%%%%%%\n",
      "                 ####################     %%%%%%%%%%%%%%%%%\n",
      "                   #################     %%%%%%%%%%%%%%%%%\n",
      "                    ###############     %%%%%%%%%%%%%%%%\n",
      "                      ############     %%%%%%%%%%%%%%%\n",
      "                         ########     %%%%%%%%%%%%%%\n",
      "                                     %%%%%%%%%%%\n",
      "\n",
      "                   | The OpenMC Monte Carlo Code\n",
      "         Copyright | 2011-2018 MIT and OpenMC contributors\n",
      "           License | http://openmc.readthedocs.io/en/latest/license.html\n",
      "           Version | 0.10.0\n",
      "          Git SHA1 | f7d8d4033db6f3223709ce981e7725593cc558d6\n",
      "         Date/Time | 2018-12-10 16:43:45\n",
      "    OpenMP Threads | 8\n",
      "\n",
      " Reading settings XML file...\n",
      " Reading cross sections XML file...\n",
      " Reading materials XML file...\n",
      " Reading geometry XML file...\n",
      " Building neighboring cells lists for each surface...\n",
      " Reading U235 from /home/robertsj/Research/openmc/scripts/nndc_hdf5/U235.h5\n",
      " Reading U238 from /home/robertsj/Research/openmc/scripts/nndc_hdf5/U238.h5\n",
      " Reading O16 from /home/robertsj/Research/openmc/scripts/nndc_hdf5/O16.h5\n",
      " Reading Zr90 from /home/robertsj/Research/openmc/scripts/nndc_hdf5/Zr90.h5\n",
      " Reading Zr91 from /home/robertsj/Research/openmc/scripts/nndc_hdf5/Zr91.h5\n",
      " Reading Zr92 from /home/robertsj/Research/openmc/scripts/nndc_hdf5/Zr92.h5\n",
      " Reading Zr94 from /home/robertsj/Research/openmc/scripts/nndc_hdf5/Zr94.h5\n",
      " Reading Zr96 from /home/robertsj/Research/openmc/scripts/nndc_hdf5/Zr96.h5\n",
      " Reading H1 from /home/robertsj/Research/openmc/scripts/nndc_hdf5/H1.h5\n",
      " Reading c_H_in_H2O from\n",
      " /home/robertsj/Research/openmc/scripts/nndc_hdf5/c_H_in_H2O.h5\n",
      " Maximum neutron transport energy: 2.00000E+07 eV for U235\n",
      " Writing summary.h5 file...\n",
      " Initializing source particles...\n",
      " ====================>     K EIGENVALUE SIMULATION     <====================\n",
      "\n",
      "  Bat./Gen.      k            Average k         \n",
      "  =========   ========   ====================   \n",
      "        1/1    1.69626                       \n",
      "        2/1    1.41495    1.55561 +/- 0.14065\n",
      "        3/1    1.41866    1.50996 +/- 0.09316\n",
      "        4/1    1.40370    1.48339 +/- 0.07103\n",
      "        5/1    1.39925    1.46656 +/- 0.05753\n",
      "        6/1    1.46063    1.46557 +/- 0.04699\n",
      "        7/1    1.51768    1.47302 +/- 0.04040\n",
      "        8/1    1.45207    1.47040 +/- 0.03509\n",
      "        9/1    1.50811    1.47459 +/- 0.03123\n",
      "       10/1    1.40755    1.46789 +/- 0.02872\n",
      "       11/1    1.44106    1.46545 +/- 0.02610\n",
      "       12/1    1.41539    1.46128 +/- 0.02418\n",
      "       13/1    1.47668    1.46246 +/- 0.02228\n",
      "       14/1    1.35778    1.45498 +/- 0.02194\n",
      "       15/1    1.44407    1.45426 +/- 0.02044\n",
      "       16/1    1.44605    1.45374 +/- 0.01912\n",
      "       17/1    1.46453    1.45438 +/- 0.01797\n",
      "       18/1    1.42638    1.45282 +/- 0.01702\n",
      "       19/1    1.45607    1.45299 +/- 0.01610\n",
      "       20/1    1.49760    1.45522 +/- 0.01543\n",
      "       21/1    1.47462    1.45615 +/- 0.01471\n",
      "       22/1    1.47614    1.45706 +/- 0.01405\n",
      "       23/1    1.49961    1.45891 +/- 0.01356\n",
      "       24/1    1.40365    1.45660 +/- 0.01318\n",
      "       25/1    1.61532    1.46295 +/- 0.01415\n",
      "       26/1    1.47452    1.46340 +/- 0.01360\n",
      "       27/1    1.43331    1.46228 +/- 0.01313\n",
      "       28/1    1.47068    1.46258 +/- 0.01266\n",
      "       29/1    1.46084    1.46252 +/- 0.01222\n",
      "       30/1    1.32873    1.45806 +/- 0.01262\n",
      "       31/1    1.53563    1.46056 +/- 0.01246\n",
      "       32/1    1.38953    1.45834 +/- 0.01226\n",
      "       33/1    1.44600    1.45797 +/- 0.01189\n",
      "       34/1    1.51221    1.45957 +/- 0.01165\n",
      "       35/1    1.45005    1.45929 +/- 0.01131\n",
      "       36/1    1.37082    1.45684 +/- 0.01126\n",
      "       37/1    1.45992    1.45692 +/- 0.01096\n",
      "       38/1    1.45518    1.45687 +/- 0.01066\n",
      "       39/1    1.47832    1.45742 +/- 0.01040\n",
      "       40/1    1.38441    1.45560 +/- 0.01030\n",
      "       41/1    1.32040    1.45230 +/- 0.01057\n",
      "       42/1    1.40894    1.45127 +/- 0.01037\n",
      "       43/1    1.38698    1.44977 +/- 0.01024\n",
      "       44/1    1.46762    1.45018 +/- 0.01001\n",
      "       45/1    1.43830    1.44992 +/- 0.00979\n",
      "       46/1    1.42622    1.44940 +/- 0.00959\n",
      "       47/1    1.43302    1.44905 +/- 0.00939\n",
      "       48/1    1.45290    1.44913 +/- 0.00919\n",
      "       49/1    1.35302    1.44717 +/- 0.00921\n",
      "       50/1    1.37586    1.44574 +/- 0.00914\n",
      "       51/1    1.42754    1.44539 +/- 0.00896\n",
      "       52/1    1.46211    1.44571 +/- 0.00880\n",
      "       53/1    1.42592    1.44534 +/- 0.00864\n",
      "       54/1    1.40580    1.44460 +/- 0.00851\n",
      "       55/1    1.39672    1.44373 +/- 0.00840\n",
      "       56/1    1.45879    1.44400 +/- 0.00825\n",
      "       57/1    1.59719    1.44669 +/- 0.00854\n",
      "       58/1    1.47419    1.44716 +/- 0.00840\n",
      "       59/1    1.49080    1.44790 +/- 0.00829\n",
      "       60/1    1.36688    1.44655 +/- 0.00826\n",
      "       61/1    1.47577    1.44703 +/- 0.00814\n",
      "       62/1    1.43999    1.44692 +/- 0.00801\n",
      "       63/1    1.52295    1.44812 +/- 0.00797\n",
      "       64/1    1.47559    1.44855 +/- 0.00786\n",
      "       65/1    1.55910    1.45025 +/- 0.00792\n",
      "       66/1    1.35978    1.44888 +/- 0.00792\n",
      "       67/1    1.44482    1.44882 +/- 0.00780\n",
      "       68/1    1.44448    1.44876 +/- 0.00769\n",
      "       69/1    1.38299    1.44781 +/- 0.00763\n",
      "       70/1    1.47752    1.44823 +/- 0.00754\n",
      "       71/1    1.52959    1.44938 +/- 0.00752\n",
      "       72/1    1.40226    1.44872 +/- 0.00744\n",
      "       73/1    1.47320    1.44906 +/- 0.00735\n",
      "       74/1    1.48621    1.44956 +/- 0.00726\n",
      "       75/1    1.45669    1.44965 +/- 0.00717\n",
      "       76/1    1.53433    1.45077 +/- 0.00716\n",
      "       77/1    1.47963    1.45114 +/- 0.00707\n",
      "       78/1    1.41928    1.45074 +/- 0.00700\n",
      "       79/1    1.43858    1.45058 +/- 0.00691\n",
      "       80/1    1.42556    1.45027 +/- 0.00683\n",
      "       81/1    1.47623    1.45059 +/- 0.00675\n",
      "       82/1    1.42742    1.45031 +/- 0.00667\n",
      "       83/1    1.52763    1.45124 +/- 0.00666\n",
      "       84/1    1.50224    1.45185 +/- 0.00661\n",
      "       85/1    1.49555    1.45236 +/- 0.00655\n",
      "       86/1    1.42923    1.45209 +/- 0.00648\n",
      "       87/1    1.40854    1.45159 +/- 0.00642\n",
      "       88/1    1.41687    1.45120 +/- 0.00636\n",
      "       89/1    1.34584    1.45001 +/- 0.00640\n",
      "       90/1    1.41515    1.44962 +/- 0.00634\n",
      "       91/1    1.42221    1.44932 +/- 0.00628\n",
      "       92/1    1.35686    1.44832 +/- 0.00629\n",
      "       93/1    1.44880    1.44832 +/- 0.00622\n",
      "       94/1    1.34948    1.44727 +/- 0.00624\n",
      "       95/1    1.44919    1.44729 +/- 0.00618\n",
      "       96/1    1.40372    1.44684 +/- 0.00613\n",
      "       97/1    1.44617    1.44683 +/- 0.00607\n",
      "       98/1    1.47710    1.44714 +/- 0.00601\n",
      "       99/1    1.44907    1.44716 +/- 0.00595\n",
      "      100/1    1.41608    1.44685 +/- 0.00590\n",
      " Creating state point statepoint.100.h5...\n",
      "\n",
      " =======================>     TIMING STATISTICS     <=======================\n",
      "\n",
      " Total time for initialization     =  0.0000E+00 seconds\n",
      "   Reading cross sections          =  0.0000E+00 seconds\n",
      " Total time in simulation          =  8.5253E+00 seconds\n",
      "   Time in transport only          =  6.8766E+00 seconds\n",
      "   Time in inactive batches        =  0.0000E+00 seconds\n",
      "   Time in active batches          =  8.5253E+00 seconds\n",
      "   Time synchronizing fission bank =  1.7244E-02 seconds\n",
      "     Sampling source sites         =  1.5310E-02 seconds\n",
      "     SEND/RECV source sites        =  1.3425E-03 seconds\n",
      "   Time accumulating tallies       =  2.0656E-04 seconds\n",
      " Total time for finalization       =  2.5314E-05 seconds\n",
      " Total time elapsed                =  0.0000E+00 seconds\n",
      " Calculation Rate (active)         =  11729.8 particles/second\n",
      "\n",
      " ============================>     RESULTS     <============================\n",
      "\n",
      " k-effective (Collision)     =  1.45054 +/-  0.00511\n",
      " k-effective (Track-length)  =  1.44685 +/-  0.00590\n",
      " k-effective (Absorption)    =  1.45452 +/-  0.00458\n",
      " Combined k-effective        =  1.45245 +/-  0.00432\n",
      " Leakage Fraction            =  0.00000 +/-  0.00000\n",
      "\n"
     ]
    }
   ],
   "source": [
    "!rm tallies.xml\n",
    "!rm *h5  \n",
    "openmc.run()"
   ]
  },
  {
   "cell_type": "markdown",
   "metadata": {
    "slideshow": {
     "slide_type": "subslide"
    }
   },
   "source": [
    "###  Looking at the Output\n",
    "\n",
    "So, what is produced?"
   ]
  },
  {
   "cell_type": "code",
   "execution_count": 25,
   "metadata": {
    "slideshow": {
     "slide_type": "fragment"
    }
   },
   "outputs": [
    {
     "name": "stdout",
     "output_type": "stream",
     "text": [
      "total 240\r\n",
      "drwxrwxr-x 4 robertsj robertsj  4096 Dec 10 16:47 \u001b[0m\u001b[01;34m.\u001b[0m/\r\n",
      "drwxrwxr-x 5 robertsj robertsj  4096 Dec 10 11:22 \u001b[01;34m..\u001b[0m/\r\n",
      "-rw-rw-r-- 1 robertsj robertsj   696 Dec 10 16:40 geometry.xml\r\n",
      "drwxrwxr-x 2 robertsj robertsj  4096 Dec 10 11:04 \u001b[01;34mimg\u001b[0m/\r\n",
      "drwxrwxr-x 2 robertsj robertsj  4096 Dec 10 16:21 \u001b[01;34m.ipynb_checkpoints\u001b[0m/\r\n",
      "-rw-rw-r-- 1 robertsj robertsj   762 Dec 10 16:29 materials.xml\r\n",
      "-rw-rw-r-- 1 robertsj robertsj 80151 Dec 10 16:47 OpenMC_Mini_Workshop.ipynb\r\n",
      "-rw-rw-r-- 1 robertsj robertsj   177 Dec 10 16:45 settings.xml\r\n",
      "-rw-rw-r-- 1 robertsj robertsj 90568 Dec 10 16:43 statepoint.100.h5\r\n",
      "-rw-rw-r-- 1 robertsj robertsj 39816 Dec 10 16:43 summary.h5\r\n"
     ]
    }
   ],
   "source": [
    "ls -al"
   ]
  },
  {
   "cell_type": "markdown",
   "metadata": {
    "slideshow": {
     "slide_type": "subslide"
    }
   },
   "source": [
    "The file `statepoint.100.h5` is an HDF5 file containing data associated with the first 100 batches.  One can use `h5dump` to see more of it (the output is long).  Rather, some useful information includes the following (shown by example):"
   ]
  },
  {
   "cell_type": "code",
   "execution_count": 26,
   "metadata": {
    "scrolled": true,
    "slideshow": {
     "slide_type": "fragment"
    }
   },
   "outputs": [
    {
     "name": "stdout",
     "output_type": "stream",
     "text": [
      "[1.4524456598346949, 0.004320516533979218]\n"
     ]
    }
   ],
   "source": [
    "import h5py\n",
    "f = h5py.File('statepoint.100.h5', 'r') # open the file in read mode\n",
    "print(list(f['/k_combined']))\n",
    "f.close()"
   ]
  },
  {
   "cell_type": "markdown",
   "metadata": {
    "slideshow": {
     "slide_type": "fragment"
    }
   },
   "source": [
    "We can do the same thing with the Python API directly:"
   ]
  },
  {
   "cell_type": "code",
   "execution_count": 27,
   "metadata": {
    "slideshow": {
     "slide_type": "fragment"
    }
   },
   "outputs": [
    {
     "data": {
      "text/plain": [
       "(1.4524456598346949, 0.004320516533979218)"
      ]
     },
     "execution_count": 27,
     "metadata": {},
     "output_type": "execute_result"
    }
   ],
   "source": [
    "sp = openmc.StatePoint('statepoint.100.h5')\n",
    "sp.k_combined.nominal_value, sp.k_combined.std_dev"
   ]
  },
  {
   "cell_type": "markdown",
   "metadata": {
    "slideshow": {
     "slide_type": "subslide"
    }
   },
   "source": [
    "### Visualizing the Geometry\n",
    "\n",
    "We can define one additional XML file that OpenMC can use to generate a bitmap image of the geometry:"
   ]
  },
  {
   "cell_type": "code",
   "execution_count": 28,
   "metadata": {},
   "outputs": [
    {
     "name": "stdout",
     "output_type": "stream",
     "text": [
      "\n",
      "                               %%%%%%%%%%%%%%%\n",
      "                          %%%%%%%%%%%%%%%%%%%%%%%%\n",
      "                       %%%%%%%%%%%%%%%%%%%%%%%%%%%%%%\n",
      "                     %%%%%%%%%%%%%%%%%%%%%%%%%%%%%%%%%%\n",
      "                   %%%%%%%%%%%%%%%%%%%%%%%%%%%%%%%%%%%%%%\n",
      "                  %%%%%%%%%%%%%%%%%%%%%%%%%%%%%%%%%%%%%%%%\n",
      "                                   %%%%%%%%%%%%%%%%%%%%%%%%\n",
      "                                    %%%%%%%%%%%%%%%%%%%%%%%%\n",
      "                ###############      %%%%%%%%%%%%%%%%%%%%%%%%\n",
      "               ##################     %%%%%%%%%%%%%%%%%%%%%%%\n",
      "               ###################     %%%%%%%%%%%%%%%%%%%%%%%\n",
      "               ####################     %%%%%%%%%%%%%%%%%%%%%%\n",
      "               #####################     %%%%%%%%%%%%%%%%%%%%%\n",
      "               ######################     %%%%%%%%%%%%%%%%%%%%\n",
      "               #######################     %%%%%%%%%%%%%%%%%%\n",
      "                #######################     %%%%%%%%%%%%%%%%%\n",
      "                ######################     %%%%%%%%%%%%%%%%%\n",
      "                 ####################     %%%%%%%%%%%%%%%%%\n",
      "                   #################     %%%%%%%%%%%%%%%%%\n",
      "                    ###############     %%%%%%%%%%%%%%%%\n",
      "                      ############     %%%%%%%%%%%%%%%\n",
      "                         ########     %%%%%%%%%%%%%%\n",
      "                                     %%%%%%%%%%%\n",
      "\n",
      "                   | The OpenMC Monte Carlo Code\n",
      "         Copyright | 2011-2018 MIT and OpenMC contributors\n",
      "           License | http://openmc.readthedocs.io/en/latest/license.html\n",
      "           Version | 0.10.0\n",
      "          Git SHA1 | f7d8d4033db6f3223709ce981e7725593cc558d6\n",
      "         Date/Time | 2018-12-10 16:52:29\n",
      "    OpenMP Threads | 8\n",
      "\n",
      " Reading settings XML file...\n",
      " Reading cross sections XML file...\n",
      " Reading materials XML file...\n",
      " Reading geometry XML file...\n",
      " Building neighboring cells lists for each surface...\n",
      " Reading plot XML file...\n",
      " =======================>     PLOTTING SUMMARY     <========================\n",
      "\n",
      "Plot ID: 1\n",
      "Plot file: pin_cell.ppm\n",
      "Universe depth: -1\n",
      "Plot Type: Slice\n",
      "Origin: 0 0 0\n",
      "Width: 1.26 1.26\n",
      "Coloring: Materials\n",
      "Basis: XY\n",
      "Pixels: 100 100 \n",
      "\n",
      " Processing plot 1: pin_cell.ppm...\n"
     ]
    },
    {
     "data": {
      "image/png": "[encoded data removed]",
      "text/plain": [
       "<IPython.core.display.Image object>"
      ]
     },
     "metadata": {},
     "output_type": "display_data"
    }
   ],
   "source": [
    "p = openmc.Plot()\n",
    "p.filename = 'pin_cell'\n",
    "p.width = (1.26, 1.26)\n",
    "p.pixels = (100, 100)\n",
    "p.color_by = 'material' # or 'cell'\n",
    "plots = openmc.Plots([p])\n",
    "plots.export_to_xml()\n",
    "openmc.plot_geometry()\n",
    "openmc.plot_inline(p)  "
   ]
  },
  {
   "cell_type": "markdown",
   "metadata": {
    "slideshow": {
     "slide_type": "subslide"
    }
   },
   "source": [
    "### Additional Exercises\n",
    "\n",
    "  1. Write a Python script that uses the pin-cell model just created to produce a plot of $k_{\\infty}$ as a function of the pitch-to-diameter ratio.  For simplicity, keep the fuel and cladding radii constant while adjusting the pin pitch.\n",
    "  \n",
    "  2. Plot `k_generations` from `statepoint.100.h5` as a function of generation.  Also plot the running average value of `k_generations` as a function of generation.  Does the final value match `k_combined`?"
   ]
  },
  {
   "cell_type": "markdown",
   "metadata": {
    "slideshow": {
     "slide_type": "slide"
    }
   },
   "source": [
    "## Moving On: An Assembly of Fuel Pins\n",
    "\n",
    "Let us produce a $4 \\times 4$ assembly that uses the same basic fuel pin and looks like the following:\n",
    "\n",
    "\n",
    "![Fuel Assembly](img/fuel_assembly.png)\n",
    "\n",
    "Then, we'll attempt two things: \n",
    "  1. Compute the pin power distribution\n",
    "  2. Compute two-group cross sections for this assembly"
   ]
  },
  {
   "cell_type": "markdown",
   "metadata": {
    "slideshow": {
     "slide_type": "subslide"
    }
   },
   "source": [
    "The materials are the *same* as for the pin cell, so the same `materials.xml` can be used.\n",
    "\n",
    "Some of the geometry *does* change.  In summary, these are needed:\n",
    "  - surfaces and cell to contain the entire $4 \\times 4$ lattice\n",
    "  - surfaces, cells, and universes to define each unique lattice element (i.e., fuel pin or empty coolant channel)\n",
    "  - a $4\\times 4$ lattice filled with these two universes"
   ]
  },
  {
   "cell_type": "markdown",
   "metadata": {
    "slideshow": {
     "slide_type": "subslide"
    }
   },
   "source": [
    "First, define the surfaces.  Note that the `left`, `right`, `bottom`, and `top` surfaces will enclose the $4 \\times 4$ lattice (centered at $(x, y) = (0, 0)$) with *reflective* conditions."
   ]
  },
  {
   "cell_type": "code",
   "execution_count": null,
   "metadata": {
    "slideshow": {
     "slide_type": "fragment"
    }
   },
   "outputs": [],
   "source": [
    "pitch = 1.26\n",
    "left   = openmc.XPlane(x0=-pitch*2, boundary_type='reflective')\n",
    "right  = openmc.XPlane(x0=pitch*2, boundary_type='reflective')\n",
    "bottom = openmc.YPlane(y0=-pitch*2, boundary_type='reflective')\n",
    "top    = openmc.YPlane(y0=pitch*2, boundary_type='reflective')\n",
    "fuel_outer = openmc.ZCylinder(R=0.41)\n",
    "clad_outer = openmc.ZCylinder(R=0.48)"
   ]
  },
  {
   "cell_type": "markdown",
   "metadata": {
    "slideshow": {
     "slide_type": "subslide"
    }
   },
   "source": [
    "Now, define those cells needed for the fuel pin.  Note, the `coolant` cell is *infinite* in extent, but that's okay: the lattice will impose boundaries!"
   ]
  },
  {
   "cell_type": "code",
   "execution_count": null,
   "metadata": {
    "slideshow": {
     "slide_type": "fragment"
    }
   },
   "outputs": [],
   "source": [
    "fuel = openmc.Cell(1, 'fuel')\n",
    "fuel.fill = uo2\n",
    "fuel.region = -fuel_outer\n",
    "    \n",
    "cladding = openmc.Cell(2, 'cladding')\n",
    "cladding.fill = zirconium #\n",
    "cladding.region = +fuel_outer & -clad_outer\n",
    "    \n",
    "coolant = openmc.Cell(3, 'coolant')\n",
    "coolant.fill = h2o\n",
    "coolant.region = +clad_outer"
   ]
  },
  {
   "cell_type": "markdown",
   "metadata": {
    "slideshow": {
     "slide_type": "subslide"
    }
   },
   "source": [
    "Next, define the single cell needed for the empty coolant channel.  Note, this one is *finite*, but its bounds are outside the area defined by one lattice element, so it's okay: the lattice will define the correct boundaries."
   ]
  },
  {
   "cell_type": "code",
   "execution_count": null,
   "metadata": {
    "slideshow": {
     "slide_type": "fragment"
    }
   },
   "outputs": [],
   "source": [
    "coolant_channel = openmc.Cell(4, 'coolant_channel')\n",
    "coolant_channel.fill = h2o\n",
    "coolant_channel.region = +left & -right & +bottom & -top # *first* use of these surfaces"
   ]
  },
  {
   "cell_type": "markdown",
   "metadata": {
    "slideshow": {
     "slide_type": "subslide"
    }
   },
   "source": [
    "Define the fuel and coolant universes:"
   ]
  },
  {
   "cell_type": "code",
   "execution_count": null,
   "metadata": {
    "slideshow": {
     "slide_type": "fragment"
    }
   },
   "outputs": [],
   "source": [
    "univ_f = openmc.Universe(cells=[fuel, cladding, coolant], universe_id=1)  \n",
    "univ_c = openmc.Universe(cells=[coolant_channel], universe_id=2)    "
   ]
  },
  {
   "cell_type": "markdown",
   "metadata": {
    "slideshow": {
     "slide_type": "subslide"
    }
   },
   "source": [
    "### Defining Lattices of Repeated Units\n",
    "\n",
    "Next, define the $4\\times 4$ lattice:"
   ]
  },
  {
   "cell_type": "code",
   "execution_count": null,
   "metadata": {
    "slideshow": {
     "slide_type": "fragment"
    }
   },
   "outputs": [],
   "source": [
    "lattice2d = openmc.RectLattice(lattice_id=5)\n",
    "lattice2d.lower_left = [-2*pitch, -2*pitch]\n",
    "lattice2d.pitch = [pitch, pitch]\n",
    "lattice2d.universes = [[univ_f, univ_f, univ_f, univ_f],\n",
    "                       [univ_f, univ_c, univ_f, univ_f],\n",
    "                       [univ_f, univ_f, univ_f, univ_f],\n",
    "                       [univ_f, univ_f, univ_f, univ_f]]"
   ]
  },
  {
   "cell_type": "markdown",
   "metadata": {
    "slideshow": {
     "slide_type": "subslide"
    }
   },
   "source": [
    "Finally, create one cell to hold the lattice, set that as the cell for the root universe, and export the resulting geometry to XML:"
   ]
  },
  {
   "cell_type": "code",
   "execution_count": null,
   "metadata": {
    "slideshow": {
     "slide_type": "fragment"
    }
   },
   "outputs": [],
   "source": [
    "lattice_cell = openmc.Cell(cell_id=999)\n",
    "lattice_cell.region = +left & -right & +bottom & -top # second use of these surfaces\n",
    "lattice_cell.fill = lattice2d\n",
    "root = openmc.Universe(universe_id=0, name='root universe')\n",
    "root.add_cells([lattice_cell])\n",
    "geom = openmc.Geometry(root)\n",
    "geom.export_to_xml()"
   ]
  },
  {
   "cell_type": "markdown",
   "metadata": {
    "slideshow": {
     "slide_type": "subslide"
    }
   },
   "source": [
    "It's always wise to check the geometry by visual inspection:"
   ]
  },
  {
   "cell_type": "code",
   "execution_count": null,
   "metadata": {
    "slideshow": {
     "slide_type": "fragment"
    }
   },
   "outputs": [],
   "source": [
    "p = openmc.Plot()\n",
    "p.filename = 'lattice_plot'\n",
    "p.width = (4*pitch, 4*pitch)\n",
    "p.pixels = (300, 300)\n",
    "p.color_by = 'material'\n",
    "plots = openmc.Plots([p])\n",
    "plots.export_to_xml()\n",
    "openmc.plot_geometry()\n",
    "openmc.plot_inline(p)"
   ]
  },
  {
   "cell_type": "markdown",
   "metadata": {
    "slideshow": {
     "slide_type": "subslide"
    }
   },
   "source": [
    "### Defining `tallies.xml`\n",
    "\n",
    "Although $k_{\\text{eff}}$ is often important, most analysis requires determination of a quantity $X$ that can be represented as\n",
    "\n",
    "$$\n",
    " X = \\underbrace{\\int d\\mathbf{r} \\int d\\mathbf{\\Omega} \\int dE}_{\\text{filters}}\n",
    "   \\underbrace{f(\\mathbf{r}, \\mathbf{\\Omega} E)}_{\\text{scores}} \\psi(\\mathbf{r}, \\mathbf{\\Omega}, E)\\, .\n",
    "$$\n",
    "\n",
    "Possible **filters** include, among others, the selective integration over particular geometry cells and energy bins.  \n",
    "\n",
    "Possible **scores** (i.e., weighting functions) include the unit weight (for computing integral fluxes), various cross sections, and neutron/energy production from fission."
   ]
  },
  {
   "cell_type": "markdown",
   "metadata": {
    "slideshow": {
     "slide_type": "subslide"
    }
   },
   "source": [
    "Now, define a tally for the two-group flux (boundary at 0.625 eV) integrated averaged over the entire lattice volume.  First, an energy filter is needed:"
   ]
  },
  {
   "cell_type": "code",
   "execution_count": null,
   "metadata": {
    "slideshow": {
     "slide_type": "fragment"
    }
   },
   "outputs": [],
   "source": [
    "energy_filter = openmc.EnergyFilter([0.0, 0.625, 2.0e7])"
   ]
  },
  {
   "cell_type": "markdown",
   "metadata": {
    "slideshow": {
     "slide_type": "fragment"
    }
   },
   "source": [
    "Now, create a new tally, add the filter, and define what to score:"
   ]
  },
  {
   "cell_type": "code",
   "execution_count": null,
   "metadata": {
    "slideshow": {
     "slide_type": "fragment"
    }
   },
   "outputs": [],
   "source": [
    "flux_tally = openmc.Tally(tally_id=1)\n",
    "flux_tally.filters = [energy_filter]\n",
    "flux_tally.scores = ['flux']"
   ]
  },
  {
   "cell_type": "markdown",
   "metadata": {
    "slideshow": {
     "slide_type": "subslide"
    }
   },
   "source": [
    "Next, define a tally to compute the pin powers (as approximated by the fission density).  This is most easily accomplished using a *mesh tally*, which is a tally whose spatial integration is defined by an arbitrary Cartesian mesh."
   ]
  },
  {
   "cell_type": "markdown",
   "metadata": {
    "slideshow": {
     "slide_type": "fragment"
    }
   },
   "source": [
    "First, define the mesh. Each mesh element aligns exactly with a lattice element:"
   ]
  },
  {
   "cell_type": "code",
   "execution_count": null,
   "metadata": {
    "slideshow": {
     "slide_type": "fragment"
    }
   },
   "outputs": [],
   "source": [
    "mesh = openmc.Mesh(mesh_id=1)\n",
    "mesh.type = 'regular'\n",
    "mesh.dimension = [4, 4, 1]\n",
    "mesh.lower_left = [-2*pitch, -2*pitch, -1e7]\n",
    "mesh.width = [pitch, pitch, 2e7]"
   ]
  },
  {
   "cell_type": "markdown",
   "metadata": {
    "slideshow": {
     "slide_type": "fragment"
    }
   },
   "source": [
    "Now, create the mesh filter and the mesh tally:"
   ]
  },
  {
   "cell_type": "code",
   "execution_count": null,
   "metadata": {
    "slideshow": {
     "slide_type": "fragment"
    }
   },
   "outputs": [],
   "source": [
    "mesh_filter = openmc.MeshFilter(mesh)\n",
    "mesh_tally = openmc.Tally(tally_id=2)\n",
    "mesh_tally.filters = [mesh_filter]\n",
    "mesh_tally.scores = ['fission']"
   ]
  },
  {
   "cell_type": "markdown",
   "metadata": {
    "slideshow": {
     "slide_type": "subslide"
    }
   },
   "source": [
    "With the tallies defined, export to `tallies.xml`:"
   ]
  },
  {
   "cell_type": "code",
   "execution_count": null,
   "metadata": {
    "slideshow": {
     "slide_type": "fragment"
    }
   },
   "outputs": [],
   "source": [
    "tallies_file = openmc.Tallies([flux_tally, mesh_tally])\n",
    "tallies_file.export_to_xml()"
   ]
  },
  {
   "cell_type": "markdown",
   "metadata": {
    "slideshow": {
     "slide_type": "subslide"
    }
   },
   "source": [
    "Update `settings.xml` to include *inactive* generations:"
   ]
  },
  {
   "cell_type": "code",
   "execution_count": null,
   "metadata": {
    "slideshow": {
     "slide_type": "fragment"
    }
   },
   "outputs": [],
   "source": [
    "settings = openmc.Settings()\n",
    "settings.batches = 100\n",
    "settings.inactive = 10\n",
    "settings.particles = 1000\n",
    "settings.export_to_xml()"
   ]
  },
  {
   "cell_type": "markdown",
   "metadata": {
    "slideshow": {
     "slide_type": "fragment"
    }
   },
   "source": [
    "Run the simulation:"
   ]
  },
  {
   "cell_type": "code",
   "execution_count": null,
   "metadata": {
    "slideshow": {
     "slide_type": "fragment"
    }
   },
   "outputs": [],
   "source": [
    "!rm *.h5 # clean up any existing output\n",
    "openmc.run(threads=4)"
   ]
  },
  {
   "cell_type": "markdown",
   "metadata": {
    "slideshow": {
     "slide_type": "subslide"
    }
   },
   "source": [
    "Now, view `tallies.out`:"
   ]
  },
  {
   "cell_type": "code",
   "execution_count": null,
   "metadata": {},
   "outputs": [],
   "source": [
    "!cat tallies.out"
   ]
  },
  {
   "cell_type": "markdown",
   "metadata": {
    "slideshow": {
     "slide_type": "slide"
    }
   },
   "source": [
    "## The End\n",
    "\n",
    "\n",
    "Next steps: visit the OpenMC documentation, join the user group, and do the examples!  "
   ]
  }
 ],
 "metadata": {
  "celltoolbar": "Slideshow",
  "kernelspec": {
   "display_name": "Python 3",
   "language": "python",
   "name": "python3"
  },
  "language_info": {
   "codemirror_mode": {
    "name": "ipython",
    "version": 3
   },
   "file_extension": ".py",
   "mimetype": "text/x-python",
   "name": "python",
   "nbconvert_exporter": "python",
   "pygments_lexer": "ipython3",
   "version": "3.6.5"
  },
  "livereveal": {
   "scroll": true
  }
 },
 "nbformat": 4,
 "nbformat_minor": 2
}
